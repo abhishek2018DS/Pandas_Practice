{
 "cells": [
  {
   "cell_type": "markdown",
   "metadata": {},
   "source": [
    "### 1. **Identifying Missing Values**:\n",
    "   - **Problem Statement**: Given a DataFrame `df` with columns 'Name', 'Age', and 'Score', identify which entries are missing. "
   ]
  },
  {
   "cell_type": "code",
   "execution_count": 1,
   "metadata": {},
   "outputs": [
    {
     "name": "stdout",
     "output_type": "stream",
     "text": [
      "    Name    Age  Score\n",
      "0  False  False  False\n",
      "1  False   True  False\n",
      "2  False  False   True\n",
      "3  False  False  False\n",
      "4  False   True  False\n"
     ]
    }
   ],
   "source": [
    "import pandas as pd\n",
    "\n",
    "df = pd.DataFrame({\n",
    "   'Name': ['Alice', 'Bob', 'Charlie', 'David', 'Eve'],\n",
    "   'Age': [25, None, 30, 22, None],\n",
    "   'Score': [85, 90, None, 95, 88]\n",
    "})\n",
    "\n",
    "missing_values = df.isna()\n",
    "print(missing_values)"
   ]
  },
  {
   "cell_type": "markdown",
   "metadata": {},
   "source": [
    "### 2. **Counting Missing Values**:\n",
    "   - **Problem Statement**: Given a DataFrame `df` with columns 'Name', 'Age', and 'Score', count the number of missing values in each column."
   ]
  },
  {
   "cell_type": "code",
   "execution_count": 2,
   "metadata": {},
   "outputs": [
    {
     "name": "stdout",
     "output_type": "stream",
     "text": [
      "Name     0\n",
      "Age      2\n",
      "Score    1\n",
      "dtype: int64\n"
     ]
    }
   ],
   "source": [
    "missing_counts = df.isna().sum()\n",
    "print(missing_counts)"
   ]
  },
  {
   "cell_type": "markdown",
   "metadata": {},
   "source": [
    "### 3. **Dropping Rows with Missing Values**:\n",
    "   - **Problem Statement**: Given a DataFrame `df` with columns 'Name', 'Age', and 'Score', drop any rows that contain missing values."
   ]
  },
  {
   "cell_type": "code",
   "execution_count": 3,
   "metadata": {},
   "outputs": [
    {
     "name": "stdout",
     "output_type": "stream",
     "text": [
      "    Name   Age  Score\n",
      "0  Alice  25.0   85.0\n",
      "3  David  22.0   95.0\n"
     ]
    }
   ],
   "source": [
    "df_cleaned = df.dropna()\n",
    "print(df_cleaned)"
   ]
  },
  {
   "cell_type": "markdown",
   "metadata": {},
   "source": [
    "### 4. **Dropping Columns with Missing Values**:\n",
    "   - **Problem Statement**: Given a DataFrame `df` with columns 'Name', 'Age', and 'Score', drop any columns that contain missing values."
   ]
  },
  {
   "cell_type": "code",
   "execution_count": 4,
   "metadata": {},
   "outputs": [
    {
     "name": "stdout",
     "output_type": "stream",
     "text": [
      "      Name\n",
      "0    Alice\n",
      "1      Bob\n",
      "2  Charlie\n",
      "3    David\n",
      "4      Eve\n"
     ]
    }
   ],
   "source": [
    "df_cleaned = df.dropna(axis=1)\n",
    "print(df_cleaned)"
   ]
  },
  {
   "cell_type": "markdown",
   "metadata": {},
   "source": [
    "### 5. **Filling Missing Values with a Specific Value**:\n",
    "   - **Problem Statement**: Given a DataFrame `df` with columns 'Name', 'Age', and 'Score', fill all missing values with 0."
   ]
  },
  {
   "cell_type": "code",
   "execution_count": 5,
   "metadata": {},
   "outputs": [
    {
     "name": "stdout",
     "output_type": "stream",
     "text": [
      "      Name   Age  Score\n",
      "0    Alice  25.0   85.0\n",
      "1      Bob   0.0   90.0\n",
      "2  Charlie  30.0    0.0\n",
      "3    David  22.0   95.0\n",
      "4      Eve   0.0   88.0\n"
     ]
    }
   ],
   "source": [
    "df_filled = df.fillna(0)\n",
    "print(df_filled)"
   ]
  },
  {
   "cell_type": "markdown",
   "metadata": {},
   "source": [
    "### 6. **Filling Missing Values with Column Mean**:\n",
    "   - **Problem Statement**: Given a DataFrame `df` with columns 'Name', 'Age', and 'Score', fill the missing values in the 'Age' column with the mean age."
   ]
  },
  {
   "cell_type": "code",
   "execution_count": 6,
   "metadata": {},
   "outputs": [
    {
     "name": "stdout",
     "output_type": "stream",
     "text": [
      "      Name        Age  Score\n",
      "0    Alice  25.000000   85.0\n",
      "1      Bob  25.666667   90.0\n",
      "2  Charlie  30.000000    NaN\n",
      "3    David  22.000000   95.0\n",
      "4      Eve  25.666667   88.0\n"
     ]
    }
   ],
   "source": [
    "df['Age'] = df['Age'].fillna(df['Age'].mean())\n",
    "print(df)"
   ]
  },
  {
   "cell_type": "markdown",
   "metadata": {},
   "source": [
    "### 7. **Forward Fill Missing Values**:\n",
    "   - **Problem Statement**: Given a DataFrame `df` with columns 'Name', 'Age', and 'Score', fill the missing values using the forward fill method."
   ]
  },
  {
   "cell_type": "code",
   "execution_count": 7,
   "metadata": {},
   "outputs": [
    {
     "name": "stdout",
     "output_type": "stream",
     "text": [
      "      Name        Age  Score\n",
      "0    Alice  25.000000   85.0\n",
      "1      Bob  25.666667   90.0\n",
      "2  Charlie  30.000000   90.0\n",
      "3    David  22.000000   95.0\n",
      "4      Eve  25.666667   88.0\n"
     ]
    }
   ],
   "source": [
    "df_ffill = df.fillna(method='ffill')\n",
    "print(df_ffill)"
   ]
  },
  {
   "cell_type": "markdown",
   "metadata": {},
   "source": [
    "### 8. **Backward Fill Missing Values**:\n",
    "   - **Problem Statement**: Given a DataFrame `df` with columns 'Name', 'Age', and 'Score', fill the missing values using the backward fill method."
   ]
  },
  {
   "cell_type": "code",
   "execution_count": 8,
   "metadata": {},
   "outputs": [
    {
     "name": "stdout",
     "output_type": "stream",
     "text": [
      "      Name        Age  Score\n",
      "0    Alice  25.000000   85.0\n",
      "1      Bob  25.666667   90.0\n",
      "2  Charlie  30.000000   95.0\n",
      "3    David  22.000000   95.0\n",
      "4      Eve  25.666667   88.0\n"
     ]
    }
   ],
   "source": [
    "df_bfill = df.fillna(method='bfill')\n",
    "print(df_bfill)"
   ]
  },
  {
   "cell_type": "markdown",
   "metadata": {},
   "source": [
    "### 9. **Interpolating Missing Values**:\n",
    "   - **Problem Statement**: Given a DataFrame `df` with columns 'Date' and 'Value' where 'Date' is a range of dates and 'Value' contains some missing entries, fill the missing values using linear interpolation."
   ]
  },
  {
   "cell_type": "code",
   "execution_count": 9,
   "metadata": {},
   "outputs": [
    {
     "name": "stdout",
     "output_type": "stream",
     "text": [
      "        Date  Value\n",
      "0 2022-01-01    1.0\n",
      "1 2022-01-02    2.0\n",
      "2 2022-01-03    3.0\n",
      "3 2022-01-04    4.0\n",
      "4 2022-01-05    5.0\n",
      "5 2022-01-06    6.0\n",
      "6 2022-01-07    7.0\n",
      "7 2022-01-08    8.0\n",
      "8 2022-01-09    9.0\n",
      "9 2022-01-10    9.0\n"
     ]
    }
   ],
   "source": [
    "df = pd.DataFrame({\n",
    "   'Date': pd.date_range(start='2022-01-01', periods=10),\n",
    "   'Value': [1, 2, None, 4, 5, None, 7, 8, 9, None]\n",
    "})\n",
    "\n",
    "df['Value'] = df['Value'].interpolate()\n",
    "print(df)"
   ]
  },
  {
   "cell_type": "markdown",
   "metadata": {},
   "source": [
    "### 10. **Filling Missing Values by Group**:\n",
    "  **Problem Statement**: Given a DataFrame `df` with columns 'Department', 'Employee', and 'Salary', fill missing salary values with the average salary of their respective department."
   ]
  },
  {
   "cell_type": "code",
   "execution_count": 10,
   "metadata": {},
   "outputs": [
    {
     "name": "stdout",
     "output_type": "stream",
     "text": [
      "    Department Employee   Salary\n",
      "0           HR    Alice  50000.0\n",
      "1           HR      Bob  50000.0\n",
      "2  Engineering  Charlie  80000.0\n",
      "3  Engineering    David  90000.0\n",
      "4        Sales      Eve      NaN\n"
     ]
    }
   ],
   "source": [
    "df = pd.DataFrame({\n",
    "    'Department': ['HR', 'HR', 'Engineering', 'Engineering', 'Sales'],\n",
    "    'Employee': ['Alice', 'Bob', 'Charlie', 'David', 'Eve'],\n",
    "    'Salary': [50000, None, 80000, 90000, None]\n",
    "})\n",
    "\n",
    "df['Salary'] = df.groupby('Department')['Salary'].transform(lambda x: x.fillna(x.mean()))\n",
    "print(df)"
   ]
  },
  {
   "cell_type": "code",
   "execution_count": null,
   "metadata": {},
   "outputs": [],
   "source": []
  }
 ],
 "metadata": {
  "kernelspec": {
   "display_name": "Python 3",
   "language": "python",
   "name": "python3"
  },
  "language_info": {
   "codemirror_mode": {
    "name": "ipython",
    "version": 3
   },
   "file_extension": ".py",
   "mimetype": "text/x-python",
   "name": "python",
   "nbconvert_exporter": "python",
   "pygments_lexer": "ipython3",
   "version": "3.6.9"
  }
 },
 "nbformat": 4,
 "nbformat_minor": 4
}
