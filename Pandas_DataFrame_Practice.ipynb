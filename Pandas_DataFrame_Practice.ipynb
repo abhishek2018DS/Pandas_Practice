{
 "cells": [
  {
   "cell_type": "markdown",
   "metadata": {},
   "source": [
    "### 1. Create DataFrame from Dictionary:\n",
    "\n",
    "Create a DataFrame from a dictionary of lists."
   ]
  },
  {
   "cell_type": "code",
   "execution_count": 1,
   "metadata": {},
   "outputs": [
    {
     "data": {
      "text/html": [
       "<div>\n",
       "<style scoped>\n",
       "    .dataframe tbody tr th:only-of-type {\n",
       "        vertical-align: middle;\n",
       "    }\n",
       "\n",
       "    .dataframe tbody tr th {\n",
       "        vertical-align: top;\n",
       "    }\n",
       "\n",
       "    .dataframe thead th {\n",
       "        text-align: right;\n",
       "    }\n",
       "</style>\n",
       "<table border=\"1\" class=\"dataframe\">\n",
       "  <thead>\n",
       "    <tr style=\"text-align: right;\">\n",
       "      <th></th>\n",
       "      <th>Name</th>\n",
       "      <th>Age</th>\n",
       "      <th>City</th>\n",
       "    </tr>\n",
       "  </thead>\n",
       "  <tbody>\n",
       "    <tr>\n",
       "      <th>0</th>\n",
       "      <td>Alice</td>\n",
       "      <td>24</td>\n",
       "      <td>New York</td>\n",
       "    </tr>\n",
       "    <tr>\n",
       "      <th>1</th>\n",
       "      <td>Bob</td>\n",
       "      <td>27</td>\n",
       "      <td>Los Angeles</td>\n",
       "    </tr>\n",
       "    <tr>\n",
       "      <th>2</th>\n",
       "      <td>Charlie</td>\n",
       "      <td>22</td>\n",
       "      <td>Chicago</td>\n",
       "    </tr>\n",
       "  </tbody>\n",
       "</table>\n",
       "</div>"
      ],
      "text/plain": [
       "      Name  Age         City\n",
       "0    Alice   24     New York\n",
       "1      Bob   27  Los Angeles\n",
       "2  Charlie   22      Chicago"
      ]
     },
     "execution_count": 1,
     "metadata": {},
     "output_type": "execute_result"
    }
   ],
   "source": [
    "import pandas as pd\n",
    "\n",
    "data = {\n",
    "    'Name': ['Alice', 'Bob', 'Charlie'],\n",
    "    'Age': [24, 27, 22],\n",
    "    'City': ['New York', 'Los Angeles', 'Chicago']\n",
    "}\n",
    "df = pd.DataFrame(data)\n",
    "df.head()"
   ]
  },
  {
   "cell_type": "markdown",
   "metadata": {},
   "source": [
    "### 2. Select Rows Based on Conditions:\n",
    "\n",
    "Select rows where age is greater than 25."
   ]
  },
  {
   "cell_type": "code",
   "execution_count": 2,
   "metadata": {},
   "outputs": [
    {
     "name": "stdout",
     "output_type": "stream",
     "text": [
      "  Name  Age         City\n",
      "1  Bob   27  Los Angeles\n"
     ]
    }
   ],
   "source": [
    "result = df[df['Age'] > 25]\n",
    "print(result)"
   ]
  },
  {
   "cell_type": "markdown",
   "metadata": {},
   "source": [
    "### 3. Add and Delete Columns:\n",
    "\n",
    "Add a new column 'Salary' and delete the 'City' column."
   ]
  },
  {
   "cell_type": "code",
   "execution_count": 3,
   "metadata": {},
   "outputs": [
    {
     "name": "stdout",
     "output_type": "stream",
     "text": [
      "      Name  Age  Salary\n",
      "0    Alice   24   70000\n",
      "1      Bob   27   80000\n",
      "2  Charlie   22   60000\n"
     ]
    }
   ],
   "source": [
    "df['Salary'] = [70000, 80000, 60000]\n",
    "df.drop('City', axis=1, inplace=True)\n",
    "print(df)"
   ]
  },
  {
   "cell_type": "markdown",
   "metadata": {},
   "source": [
    "### 4. Group By and Aggregate:\n",
    "\n",
    "Group the DataFrame by 'City' and calculate the mean age."
   ]
  },
  {
   "cell_type": "code",
   "execution_count": 4,
   "metadata": {},
   "outputs": [
    {
     "name": "stdout",
     "output_type": "stream",
     "text": [
      "City\n",
      "Chicago        22\n",
      "Los Angeles    27\n",
      "New York       24\n",
      "Name: Age, dtype: int64\n"
     ]
    }
   ],
   "source": [
    "df = pd.DataFrame(data)\n",
    "result = df.groupby('City')['Age'].mean()\n",
    "print(result)"
   ]
  },
  {
   "cell_type": "markdown",
   "metadata": {},
   "source": [
    "### 5. Handling Missing Data:\n",
    "\n",
    "Identify missing values, fill them with the mean value, and drop rows with missing values."
   ]
  },
  {
   "cell_type": "code",
   "execution_count": 5,
   "metadata": {},
   "outputs": [
    {
     "name": "stdout",
     "output_type": "stream",
     "text": [
      "    Name    Age   City\n",
      "0  False  False  False\n",
      "1  False   True  False\n",
      "2  False  False  False\n",
      "      Name   Age         City\n",
      "0    Alice  24.0     New York\n",
      "1      Bob  23.0  Los Angeles\n",
      "2  Charlie  22.0      Chicago\n",
      "      Name   Age         City\n",
      "0    Alice  24.0     New York\n",
      "1      Bob  23.0  Los Angeles\n",
      "2  Charlie  22.0      Chicago\n"
     ]
    }
   ],
   "source": [
    "df.loc[1, 'Age'] = None\n",
    "print(df.isnull())\n",
    "df['Age'].fillna(df['Age'].mean(), inplace=True)\n",
    "print(df)\n",
    "df.dropna(inplace=True)\n",
    "print(df)"
   ]
  },
  {
   "cell_type": "markdown",
   "metadata": {},
   "source": [
    "### 6. Merge DataFrames:\n",
    "\n",
    "Merge two DataFrames on a common column."
   ]
  },
  {
   "cell_type": "code",
   "execution_count": 6,
   "metadata": {},
   "outputs": [
    {
     "name": "stdout",
     "output_type": "stream",
     "text": [
      "   ID   Name  Age\n",
      "0   1  Alice   24\n",
      "1   2    Bob   27\n"
     ]
    }
   ],
   "source": [
    "df1 = pd.DataFrame({'ID': [1, 2, 3], 'Name': ['Alice', 'Bob', 'Charlie']})\n",
    "df2 = pd.DataFrame({'ID': [1, 2, 4], 'Age': [24, 27, 22]})\n",
    "merged_df = pd.merge(df1, df2, on='ID')\n",
    "print(merged_df)\n"
   ]
  },
  {
   "cell_type": "markdown",
   "metadata": {},
   "source": [
    "### 7. Pivot Table:\n",
    "\n",
    "Create a pivot table summarizing the data."
   ]
  },
  {
   "cell_type": "code",
   "execution_count": 7,
   "metadata": {},
   "outputs": [
    {
     "name": "stdout",
     "output_type": "stream",
     "text": [
      "Age        22    24    27\n",
      "Name                     \n",
      "Alice     NaN  82.5   NaN\n",
      "Bob       NaN   NaN  90.0\n",
      "Charlie  95.0   NaN   NaN\n"
     ]
    }
   ],
   "source": [
    "data = {\n",
    "    'Name': ['Alice', 'Bob', 'Charlie', 'Alice'],\n",
    "    'Age': [24, 27, 22, 24],\n",
    "    'Score': [85, 90, 95, 80]\n",
    "}\n",
    "df = pd.DataFrame(data)\n",
    "pivot_table = df.pivot_table(values='Score', index='Name', columns='Age', aggfunc='mean')\n",
    "print(pivot_table)"
   ]
  },
  {
   "cell_type": "markdown",
   "metadata": {},
   "source": [
    "### 8. Date and Time Handling:\n",
    "\n",
    "Convert a column to datetime, extract year, month, and day, and filter data by date."
   ]
  },
  {
   "cell_type": "code",
   "execution_count": 8,
   "metadata": {},
   "outputs": [
    {
     "name": "stdout",
     "output_type": "stream",
     "text": [
      "        Date  Value  Year  Month  Day\n",
      "1 2023-02-01    200  2023      2    1\n",
      "2 2023-03-01    300  2023      3    1\n"
     ]
    }
   ],
   "source": [
    "df = pd.DataFrame({'Date': ['2023-01-01', '2023-02-01', '2023-03-01'], 'Value': [100, 200, 300]})\n",
    "df['Date'] = pd.to_datetime(df['Date'])\n",
    "df['Year'] = df['Date'].dt.year\n",
    "df['Month'] = df['Date'].dt.month\n",
    "df['Day'] = df['Date'].dt.day\n",
    "filtered_df = df[df['Date'] > '2023-01-31']\n",
    "print(filtered_df)"
   ]
  },
  {
   "cell_type": "markdown",
   "metadata": {},
   "source": [
    "### 9. Reshape DataFrame:\n",
    "\n",
    "Reshape the DataFrame using melt and pivot."
   ]
  },
  {
   "cell_type": "code",
   "execution_count": 9,
   "metadata": {},
   "outputs": [
    {
     "name": "stdout",
     "output_type": "stream",
     "text": [
      "      Name  Subject  Score\n",
      "0    Alice     Math     85\n",
      "1      Bob     Math     90\n",
      "2  Charlie     Math     95\n",
      "3    Alice  Science     80\n",
      "4      Bob  Science     85\n",
      "5  Charlie  Science     90\n",
      "Subject  Math  Science\n",
      "Name                  \n",
      "Alice      85       80\n",
      "Bob        90       85\n",
      "Charlie    95       90\n"
     ]
    }
   ],
   "source": [
    "df = pd.DataFrame({\n",
    "    'Name': ['Alice', 'Bob', 'Charlie'],\n",
    "    'Math': [85, 90, 95],\n",
    "    'Science': [80, 85, 90]\n",
    "})\n",
    "melted_df = pd.melt(df, id_vars='Name', var_name='Subject', value_name='Score')\n",
    "print(melted_df)\n",
    "pivoted_df = melted_df.pivot(index='Name', columns='Subject', values='Score')\n",
    "print(pivoted_df)"
   ]
  },
  {
   "cell_type": "markdown",
   "metadata": {},
   "source": [
    "### 10. Iterate Over DataFrame:\n",
    "\n",
    "Iterate over rows and columns of a DataFrame."
   ]
  },
  {
   "cell_type": "code",
   "execution_count": 10,
   "metadata": {},
   "outputs": [
    {
     "name": "stdout",
     "output_type": "stream",
     "text": [
      "0 Alice 85\n",
      "1 Bob 90\n",
      "2 Charlie 95\n",
      "Name\n",
      "0      Alice\n",
      "1        Bob\n",
      "2    Charlie\n",
      "Name: Name, dtype: object\n",
      "Math\n",
      "0    85\n",
      "1    90\n",
      "2    95\n",
      "Name: Math, dtype: int64\n",
      "Science\n",
      "0    80\n",
      "1    85\n",
      "2    90\n",
      "Name: Science, dtype: int64\n"
     ]
    }
   ],
   "source": [
    "for index, row in df.iterrows():\n",
    "    print(index, row['Name'], row['Math'])\n",
    "\n",
    "for column in df:\n",
    "    print(column)\n",
    "    print(df[column])\n"
   ]
  },
  {
   "cell_type": "markdown",
   "metadata": {},
   "source": [
    "### 11. Read and Write CSV:\n",
    "\n",
    "Read data from a CSV file and write data to a CSV file."
   ]
  },
  {
   "cell_type": "code",
   "execution_count": 11,
   "metadata": {},
   "outputs": [
    {
     "name": "stdout",
     "output_type": "stream",
     "text": [
      "      Name  Math  Science\n",
      "0    Alice    85       80\n",
      "1      Bob    90       85\n",
      "2  Charlie    95       90\n"
     ]
    }
   ],
   "source": [
    "data_1 = pd.read_csv('sample.csv')\n",
    "print(df)\n",
    "data_1.to_csv('output.csv', index=False)"
   ]
  },
  {
   "cell_type": "markdown",
   "metadata": {},
   "source": [
    "### 12. Change Data Types:\n",
    "\n",
    "Convert data types of columns."
   ]
  },
  {
   "cell_type": "code",
   "execution_count": 15,
   "metadata": {},
   "outputs": [
    {
     "name": "stdout",
     "output_type": "stream",
     "text": [
      "Name     object\n",
      "Age     float64\n",
      "City     object\n",
      "dtype: object\n"
     ]
    }
   ],
   "source": [
    "data = {\n",
    "    'Name': ['Alice', 'Bob', 'Charlie'],\n",
    "    'Age': [24, 27, 22],\n",
    "    'City': ['New York', 'Los Angeles', 'Chicago']\n",
    "}\n",
    "df = pd.DataFrame(data)\n",
    "df['Age'] = df['Age'].astype(float)\n",
    "print(df.dtypes)"
   ]
  },
  {
   "cell_type": "markdown",
   "metadata": {},
   "source": [
    "### 13. Sort DataFrame:\n",
    "\n",
    "Sort the DataFrame by one or more columns."
   ]
  },
  {
   "cell_type": "code",
   "execution_count": 16,
   "metadata": {},
   "outputs": [
    {
     "name": "stdout",
     "output_type": "stream",
     "text": [
      "      Name  Age\n",
      "2  Charlie   22\n",
      "0    Alice   24\n",
      "1      Bob   27\n"
     ]
    }
   ],
   "source": [
    "df = pd.DataFrame({'Name': ['Alice', 'Bob', 'Charlie'], 'Age': [24, 27, 22]})\n",
    "sorted_df = df.sort_values(by='Age')\n",
    "print(sorted_df)"
   ]
  },
  {
   "cell_type": "markdown",
   "metadata": {},
   "source": [
    "### 14. Filter and Select Data:\n",
    "\n",
    "Use loc and iloc for filtering and selecting data."
   ]
  },
  {
   "cell_type": "code",
   "execution_count": 17,
   "metadata": {},
   "outputs": [
    {
     "name": "stdout",
     "output_type": "stream",
     "text": [
      "    Name  Age\n",
      "0  Alice   24\n",
      "1    Bob   27\n",
      "    Name  Age\n",
      "0  Alice   24\n",
      "1    Bob   27\n"
     ]
    }
   ],
   "source": [
    "df = pd.DataFrame({'Name': ['Alice', 'Bob', 'Charlie'], 'Age': [24, 27, 22]})\n",
    "print(df.loc[df['Age'] > 23])\n",
    "print(df.iloc[0:2])"
   ]
  },
  {
   "cell_type": "markdown",
   "metadata": {},
   "source": [
    "### 15. Merge and Join DataFrames:\n",
    "\n",
    "Perform different types of merges and joins (inner, outer, left, right)."
   ]
  },
  {
   "cell_type": "code",
   "execution_count": 18,
   "metadata": {},
   "outputs": [
    {
     "name": "stdout",
     "output_type": "stream",
     "text": [
      "   ID Name  Age\n",
      "0   2  Bob   27\n",
      "   ID   Name   Age\n",
      "0   1  Alice   NaN\n",
      "1   2    Bob  27.0\n",
      "2   3    NaN  22.0\n"
     ]
    }
   ],
   "source": [
    "df1 = pd.DataFrame({'ID': [1, 2], 'Name': ['Alice', 'Bob']})\n",
    "df2 = pd.DataFrame({'ID': [2, 3], 'Age': [27, 22]})\n",
    "merged_df_inner = pd.merge(df1, df2, on='ID', how='inner')\n",
    "merged_df_outer = pd.merge(df1, df2, on='ID', how='outer')\n",
    "print(merged_df_inner)\n",
    "print(merged_df_outer)"
   ]
  },
  {
   "cell_type": "markdown",
   "metadata": {},
   "source": [
    "### 16. Crosstab:\n",
    "\n",
    "Create a crosstab to summarize data."
   ]
  },
  {
   "cell_type": "code",
   "execution_count": 19,
   "metadata": {},
   "outputs": [
    {
     "name": "stdout",
     "output_type": "stream",
     "text": [
      "Score    80  85  90  95\n",
      "Name                   \n",
      "Alice     1   1   0   0\n",
      "Bob       0   0   1   0\n",
      "Charlie   0   0   0   1\n"
     ]
    }
   ],
   "source": [
    "data = {\n",
    "    'Name': ['Alice', 'Bob', 'Charlie', 'Alice'],\n",
    "    'Age': [24, 27, 22, 24],\n",
    "    'Score': [85, 90, 95, 80]\n",
    "}\n",
    "df = pd.DataFrame(data)\n",
    "crosstab = pd.crosstab(df['Name'], df['Score'])\n",
    "print(crosstab)"
   ]
  },
  {
   "cell_type": "markdown",
   "metadata": {},
   "source": [
    "### 17. Apply Functions:\n",
    "\n",
    "Apply custom functions to DataFrame columns using apply and applymap."
   ]
  },
  {
   "cell_type": "code",
   "execution_count": 20,
   "metadata": {},
   "outputs": [
    {
     "name": "stdout",
     "output_type": "stream",
     "text": [
      "   A   B  A_squared  B_doubled\n",
      "0  1  10          1         20\n",
      "1  2  20          4         40\n",
      "2  3  30          9         60\n"
     ]
    }
   ],
   "source": [
    "df = pd.DataFrame({'A': [1, 2, 3], 'B': [10, 20, 30]})\n",
    "df['A_squared'] = df['A'].apply(lambda x: x**2)\n",
    "df['B_doubled'] = df['B'].apply(lambda x: x*2)\n",
    "print(df)"
   ]
  },
  {
   "cell_type": "markdown",
   "metadata": {},
   "source": [
    "### 18. Remove Duplicates:\n",
    "\n",
    "Identify and remove duplicate rows from a DataFrame."
   ]
  },
  {
   "cell_type": "code",
   "execution_count": 21,
   "metadata": {},
   "outputs": [
    {
     "name": "stdout",
     "output_type": "stream",
     "text": [
      "    Name  Age\n",
      "0  Alice   24\n",
      "1    Bob   27\n"
     ]
    }
   ],
   "source": [
    "data = {'Name': ['Alice', 'Bob', 'Alice'], 'Age': [24, 27, 24]}\n",
    "df = pd.DataFrame(data)\n",
    "df_no_duplicates = df.drop_duplicates()\n",
    "print(df_no_duplicates)"
   ]
  },
  {
   "cell_type": "markdown",
   "metadata": {},
   "source": [
    "### 19. Handling Missing Data:\n",
    "\n",
    "Replace missing values with a specific value or method (e.g., forward fill, backward fill)."
   ]
  },
  {
   "cell_type": "code",
   "execution_count": 23,
   "metadata": {},
   "outputs": [
    {
     "name": "stdout",
     "output_type": "stream",
     "text": [
      "     A    B\n",
      "0  1.0  4.0\n",
      "1  0.0  5.0\n",
      "2  3.0  0.0\n"
     ]
    }
   ],
   "source": [
    "import numpy as np\n",
    "df = pd.DataFrame({'A': [1, np.nan, 3], 'B': [4, 5, np.nan]})\n",
    "df.fillna(0, inplace=True)\n",
    "df['B'].fillna(method='ffill', inplace=True)\n",
    "print(df)"
   ]
  },
  {
   "cell_type": "markdown",
   "metadata": {},
   "source": [
    "### 20. Descriptive Statistics:\n",
    "\n",
    "Calculate descriptive statistics like mean, median, standard deviation, and describe the DataFrame."
   ]
  },
  {
   "cell_type": "code",
   "execution_count": 24,
   "metadata": {},
   "outputs": [
    {
     "name": "stdout",
     "output_type": "stream",
     "text": [
      "Mean of A: 2.0, Median of B: 5.0, Std Dev of A: 1.0\n",
      "         A    B\n",
      "count  3.0  3.0\n",
      "mean   2.0  5.0\n",
      "std    1.0  1.0\n",
      "min    1.0  4.0\n",
      "25%    1.5  4.5\n",
      "50%    2.0  5.0\n",
      "75%    2.5  5.5\n",
      "max    3.0  6.0\n"
     ]
    }
   ],
   "source": [
    "df = pd.DataFrame({'A': [1, 2, 3], 'B': [4, 5, 6]})\n",
    "mean_A = df['A'].mean()\n",
    "median_B = df['B'].median()\n",
    "std_A = df['A'].std()\n",
    "desc_stats = df.describe()\n",
    "print(f\"Mean of A: {mean_A}, Median of B: {median_B}, Std Dev of A: {std_A}\")\n",
    "print(desc_stats)"
   ]
  },
  {
   "cell_type": "code",
   "execution_count": null,
   "metadata": {},
   "outputs": [],
   "source": []
  }
 ],
 "metadata": {
  "kernelspec": {
   "display_name": "Python 3",
   "language": "python",
   "name": "python3"
  },
  "language_info": {
   "codemirror_mode": {
    "name": "ipython",
    "version": 3
   },
   "file_extension": ".py",
   "mimetype": "text/x-python",
   "name": "python",
   "nbconvert_exporter": "python",
   "pygments_lexer": "ipython3",
   "version": "3.6.9"
  }
 },
 "nbformat": 4,
 "nbformat_minor": 4
}
