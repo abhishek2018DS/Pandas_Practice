{
 "cells": [
  {
   "cell_type": "markdown",
   "metadata": {},
   "source": [
    "### 1. Selecting Specific Columns:\n",
    "\n",
    "**Problem Statement**: Given a DataFrame df with columns 'A', 'B', 'C', and 'D', select only the columns 'A' and 'C'."
   ]
  },
  {
   "cell_type": "code",
   "execution_count": 1,
   "metadata": {},
   "outputs": [
    {
     "name": "stdout",
     "output_type": "stream",
     "text": [
      "   A  C\n",
      "0  1  7\n",
      "1  2  8\n",
      "2  3  9\n"
     ]
    }
   ],
   "source": [
    "import pandas as pd\n",
    "\n",
    "df = pd.DataFrame({\n",
    "    'A': [1, 2, 3],\n",
    "    'B': [4, 5, 6],\n",
    "    'C': [7, 8, 9],\n",
    "    'D': [10, 11, 12]\n",
    "})\n",
    "\n",
    "result = df[['A', 'C']]\n",
    "print(result)"
   ]
  },
  {
   "cell_type": "markdown",
   "metadata": {},
   "source": [
    "### 2. Selecting Rows by Index Labels:\n",
    "\n",
    "**Problem Statement**: Given a DataFrame df with a custom index ['a', 'b', 'c'], select the row with index label 'b'."
   ]
  },
  {
   "cell_type": "code",
   "execution_count": 2,
   "metadata": {},
   "outputs": [
    {
     "name": "stdout",
     "output_type": "stream",
     "text": [
      "A    2\n",
      "B    5\n",
      "C    8\n",
      "Name: b, dtype: int64\n"
     ]
    }
   ],
   "source": [
    "df = pd.DataFrame({\n",
    "    'A': [1, 2, 3],\n",
    "    'B': [4, 5, 6],\n",
    "    'C': [7, 8, 9]\n",
    "}, index=['a', 'b', 'c'])\n",
    "\n",
    "result = df.loc['b']\n",
    "print(result)"
   ]
  },
  {
   "cell_type": "markdown",
   "metadata": {},
   "source": [
    "### 3. Selecting Rows by Integer Location:\n",
    "\n",
    "**Problem Statement**: Given a DataFrame df, select the first two rows using integer-based indexing."
   ]
  },
  {
   "cell_type": "code",
   "execution_count": 3,
   "metadata": {},
   "outputs": [
    {
     "name": "stdout",
     "output_type": "stream",
     "text": [
      "   A  B  C\n",
      "a  1  4  7\n",
      "b  2  5  8\n"
     ]
    }
   ],
   "source": [
    "result = df.iloc[0:2]\n",
    "print(result)"
   ]
  },
  {
   "cell_type": "markdown",
   "metadata": {},
   "source": [
    "### 4. Selecting Rows and Columns by Labels:\n",
    "\n",
    "**Problem Statement**: Given a DataFrame df with columns 'A', 'B', 'C' and a custom index ['x', 'y', 'z'], select the value in row 'y' and column 'B'."
   ]
  },
  {
   "cell_type": "code",
   "execution_count": 4,
   "metadata": {},
   "outputs": [
    {
     "name": "stdout",
     "output_type": "stream",
     "text": [
      "5\n"
     ]
    }
   ],
   "source": [
    "df = pd.DataFrame({\n",
    "    'A': [1, 2, 3],\n",
    "    'B': [4, 5, 6],\n",
    "    'C': [7, 8, 9]\n",
    "}, index=['x', 'y', 'z'])\n",
    "\n",
    "result = df.loc['y', 'B']\n",
    "print(result)\n"
   ]
  },
  {
   "cell_type": "markdown",
   "metadata": {},
   "source": [
    "### 5. Conditional Indexing:\n",
    "\n",
    "**Problem Statement**: Given a DataFrame df with numerical values, select all rows where the value in column 'A' is greater than 2."
   ]
  },
  {
   "cell_type": "code",
   "execution_count": 5,
   "metadata": {},
   "outputs": [
    {
     "name": "stdout",
     "output_type": "stream",
     "text": [
      "   A  B\n",
      "2  3  7\n",
      "3  4  8\n"
     ]
    }
   ],
   "source": [
    "df = pd.DataFrame({\n",
    "    'A': [1, 2, 3, 4],\n",
    "    'B': [5, 6, 7, 8]\n",
    "})\n",
    "\n",
    "result = df[df['A'] > 2]\n",
    "print(result)"
   ]
  },
  {
   "cell_type": "markdown",
   "metadata": {},
   "source": [
    "### 6. Setting Values by Index:\n",
    "\n",
    "Problem Statement: Given a DataFrame df, set the value in the third row and second column to 10 using integer-based indexing."
   ]
  },
  {
   "cell_type": "code",
   "execution_count": 6,
   "metadata": {},
   "outputs": [
    {
     "name": "stdout",
     "output_type": "stream",
     "text": [
      "   A   B\n",
      "0  1   5\n",
      "1  2   6\n",
      "2  3  10\n",
      "3  4   8\n"
     ]
    }
   ],
   "source": [
    "df.iloc[2, 1] = 10\n",
    "print(df)"
   ]
  },
  {
   "cell_type": "markdown",
   "metadata": {},
   "source": [
    "### 7. Selecting Subsets of Rows and Columns:\n",
    "\n",
    "Problem Statement: Given a DataFrame df with columns 'A', 'B', 'C' and 5 rows, select the first three rows and columns 'A' and 'C'."
   ]
  },
  {
   "cell_type": "code",
   "execution_count": null,
   "metadata": {},
   "outputs": [],
   "source": [
    "df = pd.DataFrame({\n",
    "    'A': [1, 2, 3, 4, 5],\n",
    "    'B': [6, 7, 8, 9, 10],\n",
    "    'C': [11, 12, 13, 14, 15]\n",
    "})\n",
    "\n",
    "result = df.loc[0:2, ['A', 'C']]\n",
    "print(result)"
   ]
  },
  {
   "cell_type": "markdown",
   "metadata": {},
   "source": [
    "### 8. Multi-level Indexing:\n",
    "\n",
    "**Problem Statement**: Given a DataFrame df with a multi-level index, select data using multiple levels of the index."
   ]
  },
  {
   "cell_type": "code",
   "execution_count": 7,
   "metadata": {},
   "outputs": [
    {
     "name": "stdout",
     "output_type": "stream",
     "text": [
      "Values    1\n",
      "Name: (A, x), dtype: int64\n"
     ]
    }
   ],
   "source": [
    "index = pd.MultiIndex.from_tuples([('A', 'x'), ('A', 'y'), ('B', 'x'), ('B', 'y')])\n",
    "df = pd.DataFrame({'Values': [1, 2, 3, 4]}, index=index)\n",
    "\n",
    "result = df.loc[('A', 'x')]\n",
    "print(result)"
   ]
  },
  {
   "cell_type": "markdown",
   "metadata": {},
   "source": [
    "### 9. Boolean Indexing:\n",
    "\n",
    "Problem Statement: Given a DataFrame df, select all rows where the value in column 'B' is less than the value in column 'A'."
   ]
  },
  {
   "cell_type": "code",
   "execution_count": null,
   "metadata": {},
   "outputs": [],
   "source": []
  },
  {
   "cell_type": "markdown",
   "metadata": {},
   "source": [
    "### 10. Using at and iat for Accessing Scalar Values:\n",
    "\n",
    "Problem Statement: Given a DataFrame df, use at and iat to access and modify scalar values.\n"
   ]
  },
  {
   "cell_type": "code",
   "execution_count": null,
   "metadata": {},
   "outputs": [],
   "source": []
  },
  {
   "cell_type": "code",
   "execution_count": null,
   "metadata": {},
   "outputs": [],
   "source": []
  }
 ],
 "metadata": {
  "kernelspec": {
   "display_name": "Python 3",
   "language": "python",
   "name": "python3"
  },
  "language_info": {
   "codemirror_mode": {
    "name": "ipython",
    "version": 3
   },
   "file_extension": ".py",
   "mimetype": "text/x-python",
   "name": "python",
   "nbconvert_exporter": "python",
   "pygments_lexer": "ipython3",
   "version": "3.6.9"
  }
 },
 "nbformat": 4,
 "nbformat_minor": 4
}
