{
 "cells": [
  {
   "cell_type": "markdown",
   "metadata": {},
   "source": [
    "### 1. **Extracting Substrings with Regular Expressions**:\n",
    "   - **Problem Statement**: Given a DataFrame `df` with a column 'Text' containing sentences, extract the first word of each sentence into a new column 'First_Word'. "
   ]
  },
  {
   "cell_type": "code",
   "execution_count": 2,
   "metadata": {},
   "outputs": [
    {
     "name": "stdout",
     "output_type": "stream",
     "text": [
      "                  Text First_Word\n",
      "0          Hello world      Hello\n",
      "1   Pandas is powerful     Pandas\n",
      "2  Data science is fun       Data\n"
     ]
    }
   ],
   "source": [
    "import pandas as pd\n",
    "df = pd.DataFrame({\n",
    "   'Text': ['Hello world', 'Pandas is powerful', 'Data science is fun']\n",
    "})\n",
    "\n",
    "df['First_Word'] = df['Text'].str.extract(r'(\\w+)', expand=False)\n",
    "print(df)"
   ]
  },
  {
   "cell_type": "markdown",
   "metadata": {},
   "source": [
    "### 2. **Replacing Substrings Using Regular Expressions**:\n",
    "   - **Problem Statement**: Given a DataFrame `df` with a column 'Comments' containing text with varying cases, replace all occurrences of the word 'data' (case-insensitive) with 'information'."
   ]
  },
  {
   "cell_type": "code",
   "execution_count": 3,
   "metadata": {},
   "outputs": [
    {
     "name": "stdout",
     "output_type": "stream",
     "text": [
      "                             Comments\n",
      "0          information is the new oil\n",
      "1  information science is fascinating\n",
      "2           Big information analytics\n"
     ]
    }
   ],
   "source": [
    "df = pd.DataFrame({\n",
    "   'Comments': ['Data is the new oil', 'data science is fascinating', 'Big DATA analytics']\n",
    "})\n",
    "\n",
    "df['Comments'] = df['Comments'].str.replace('data', 'information', case=False, regex=True)\n",
    "print(df)"
   ]
  },
  {
   "cell_type": "markdown",
   "metadata": {},
   "source": [
    "### 3. **Extracting Digits**:\n",
    "   - **Problem Statement**: Given a DataFrame `df` with a column 'Text' containing alphanumeric strings, extract all the digits into a new column 'Digits'."
   ]
  },
  {
   "cell_type": "code",
   "execution_count": 4,
   "metadata": {},
   "outputs": [
    {
     "name": "stdout",
     "output_type": "stream",
     "text": [
      "        Text Digits\n",
      "0     abc123    123\n",
      "1  def456ghi    456\n",
      "2     789xyz    789\n"
     ]
    }
   ],
   "source": [
    "import pandas as pd\n",
    "\n",
    "df = pd.DataFrame({\n",
    "   'Text': ['abc123', 'def456ghi', '789xyz']\n",
    "})\n",
    "\n",
    "df['Digits'] = df['Text'].str.extract(r'(\\d+)', expand=False)\n",
    "print(df)"
   ]
  },
  {
   "cell_type": "markdown",
   "metadata": {},
   "source": [
    "### 4. **Extracting Email Domains**:\n",
    "   - **Problem Statement**: Given a DataFrame `df` with a column 'Email', extract the domain part of the email addresses into a new column 'Domain'."
   ]
  },
  {
   "cell_type": "code",
   "execution_count": 5,
   "metadata": {},
   "outputs": [
    {
     "name": "stdout",
     "output_type": "stream",
     "text": [
      "               Email        Domain\n",
      "0  alice@example.com   example.com\n",
      "1   bob@workmail.com  workmail.com\n",
      "2   charlie@univ.edu      univ.edu\n"
     ]
    }
   ],
   "source": [
    "df = pd.DataFrame({\n",
    "   'Email': ['alice@example.com', 'bob@workmail.com', 'charlie@univ.edu']\n",
    "})\n",
    "\n",
    "df['Domain'] = df['Email'].str.extract(r'@([\\w.]+)', expand=False)\n",
    "print(df)"
   ]
  },
  {
   "cell_type": "markdown",
   "metadata": {},
   "source": [
    "### 5. **Replacing Patterns**:\n",
    "   - **Problem Statement**: Given a DataFrame `df` with a column 'Text' containing various phrases, replace all occurrences of the pattern 'abc' with 'XYZ'."
   ]
  },
  {
   "cell_type": "code",
   "execution_count": 6,
   "metadata": {},
   "outputs": [
    {
     "name": "stdout",
     "output_type": "stream",
     "text": [
      "        Text\n",
      "0     XYZ123\n",
      "1  defXYZghi\n",
      "2  789xyzXYZ\n"
     ]
    }
   ],
   "source": [
    "df = pd.DataFrame({\n",
    "   'Text': ['abc123', 'defabcghi', '789xyzabc']\n",
    "})\n",
    "\n",
    "df['Text'] = df['Text'].str.replace(r'abc', 'XYZ', regex=True)\n",
    "print(df)"
   ]
  },
  {
   "cell_type": "markdown",
   "metadata": {},
   "source": [
    "### 6. **Validating Phone Numbers**:\n",
    "   - **Problem Statement**: Given a DataFrame `df` with a column 'Phone' containing phone numbers, create a new column 'Valid' that is True if the phone number matches the pattern (123) 456-7890."
   ]
  },
  {
   "cell_type": "code",
   "execution_count": 7,
   "metadata": {},
   "outputs": [
    {
     "name": "stdout",
     "output_type": "stream",
     "text": [
      "            Phone  Valid\n",
      "0  (123) 456-7890   True\n",
      "1    123-456-7890  False\n",
      "2  (987) 654-3210   True\n"
     ]
    }
   ],
   "source": [
    "df = pd.DataFrame({\n",
    "   'Phone': ['(123) 456-7890', '123-456-7890', '(987) 654-3210']\n",
    "})\n",
    "\n",
    "df['Valid'] = df['Phone'].str.match(r'\\(\\d{3}\\) \\d{3}-\\d{4}')\n",
    "print(df)"
   ]
  },
  {
   "cell_type": "markdown",
   "metadata": {},
   "source": [
    "### 7. **Extracting Dates**:\n",
    "   - **Problem Statement**: Given a DataFrame `df` with a column 'Text' containing strings with dates in the format 'dd-mm-yyyy', extract the dates into a new column 'Date'."
   ]
  },
  {
   "cell_type": "code",
   "execution_count": 8,
   "metadata": {},
   "outputs": [
    {
     "name": "stdout",
     "output_type": "stream",
     "text": [
      "                   Text        Date\n",
      "0   Event on 12-05-2021  12-05-2021\n",
      "1  Due date: 01-01-2022  01-01-2022\n",
      "2          No date here         NaN\n"
     ]
    }
   ],
   "source": [
    "df = pd.DataFrame({\n",
    "   'Text': ['Event on 12-05-2021', 'Due date: 01-01-2022', 'No date here']\n",
    "})\n",
    "\n",
    "df['Date'] = df['Text'].str.extract(r'(\\d{2}-\\d{2}-\\d{4})', expand=False)\n",
    "print(df)"
   ]
  },
  {
   "cell_type": "markdown",
   "metadata": {},
   "source": [
    "### 8. **Splitting Strings by Pattern**:\n",
    "   - **Problem Statement**: Given a DataFrame `df` with a column 'Text' containing strings with items separated by commas, split the items into multiple columns."
   ]
  },
  {
   "cell_type": "code",
   "execution_count": 9,
   "metadata": {},
   "outputs": [
    {
     "name": "stdout",
     "output_type": "stream",
     "text": [
      "       0       1       2       3\n",
      "0  apple  banana  cherry    None\n",
      "1    dog     cat    None    None\n",
      "2    red    blue   green  yellow\n"
     ]
    }
   ],
   "source": [
    "df = pd.DataFrame({\n",
    "   'Text': ['apple,banana,cherry', 'dog,cat', 'red,blue,green,yellow']\n",
    "})\n",
    "\n",
    "df_split = df['Text'].str.split(',', expand=True)\n",
    "print(df_split)"
   ]
  },
  {
   "cell_type": "markdown",
   "metadata": {},
   "source": [
    "### 9. **Extracting Hashtags**:\n",
    "   - **Problem Statement**: Given a DataFrame `df` with a column 'Tweet' containing tweets, extract all hashtags into a new column 'Hashtags'."
   ]
  },
  {
   "cell_type": "code",
   "execution_count": 10,
   "metadata": {},
   "outputs": [
    {
     "name": "stdout",
     "output_type": "stream",
     "text": [
      "                        Tweet  Hashtags\n",
      "0     Loving the new #iPhone!  [iPhone]\n",
      "1  Great weather today #sunny   [sunny]\n",
      "2            No hashtags here        []\n"
     ]
    }
   ],
   "source": [
    "df = pd.DataFrame({\n",
    "   'Tweet': ['Loving the new #iPhone!', 'Great weather today #sunny', 'No hashtags here']\n",
    "})\n",
    "\n",
    "df['Hashtags'] = df['Tweet'].str.findall(r'#(\\w+)')\n",
    "print(df)"
   ]
  },
  {
   "cell_type": "markdown",
   "metadata": {},
   "source": [
    "### 10. **Finding URLs**:\n",
    "   - **Problem Statement**: Given a DataFrame `df` with a column 'Text' containing text with URLs, extract all URLs into a new column 'URLs'."
   ]
  },
  {
   "cell_type": "code",
   "execution_count": 11,
   "metadata": {},
   "outputs": [
    {
     "name": "stdout",
     "output_type": "stream",
     "text": [
      "                                     Text                   URLs\n",
      "0     Check this out: https://example.com  [https://example.com]\n",
      "1  Visit http://example.org for more info   [http://example.org]\n",
      "2                             No URL here                     []\n"
     ]
    }
   ],
   "source": [
    "df = pd.DataFrame({\n",
    "   'Text': ['Check this out: https://example.com', 'Visit http://example.org for more info', 'No URL here']\n",
    "})\n",
    "\n",
    "df['URLs'] = df['Text'].str.findall(r'(https?://\\S+)')\n",
    "print(df)"
   ]
  },
  {
   "cell_type": "code",
   "execution_count": null,
   "metadata": {},
   "outputs": [],
   "source": []
  }
 ],
 "metadata": {
  "kernelspec": {
   "display_name": "Python 3",
   "language": "python",
   "name": "python3"
  },
  "language_info": {
   "codemirror_mode": {
    "name": "ipython",
    "version": 3
   },
   "file_extension": ".py",
   "mimetype": "text/x-python",
   "name": "python",
   "nbconvert_exporter": "python",
   "pygments_lexer": "ipython3",
   "version": "3.6.9"
  }
 },
 "nbformat": 4,
 "nbformat_minor": 4
}
