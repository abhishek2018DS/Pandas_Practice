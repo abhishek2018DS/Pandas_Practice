{
 "cells": [
  {
   "cell_type": "markdown",
   "metadata": {},
   "source": [
    "### 1. **Connecting to a SQL Database**:\n",
    "   - **Problem Statement**: Given a SQLite database file `database.db` containing a table `employees`, write a Pandas code snippet to connect to the database and load the table into a DataFrame."
   ]
  },
  {
   "cell_type": "markdown",
   "metadata": {},
   "source": [
    "```python\n",
    "   import pandas as pd\n",
    "   import sqlite3\n",
    "\n",
    "   conn = sqlite3.connect('database.db')\n",
    "   df = pd.read_sql_query(\"SELECT * FROM employees\", conn)\n",
    "   print(df.head())\n",
    "   ```"
   ]
  },
  {
   "cell_type": "markdown",
   "metadata": {},
   "source": [
    "### 2. **Filtering Data from SQL Database**:\n",
    "   - **Problem Statement**: Write a Pandas code snippet to query the `employees` table from `database.db` and load only the rows where the `age` is greater than 30 into a DataFrame."
   ]
  },
  {
   "cell_type": "markdown",
   "metadata": {},
   "source": [
    "  ```python\n",
    "   df = pd.read_sql_query(\"SELECT * FROM employees WHERE age > 30\", conn)\n",
    "   print(df.head())\n",
    "   ```"
   ]
  },
  {
   "cell_type": "markdown",
   "metadata": {},
   "source": [
    "### 3. **Joining Tables from SQL Database**:\n",
    "   - **Problem Statement**: Given two tables `employees` and `departments` in `database.db`, write a Pandas code snippet to perform an inner join on the `department_id` column and load the result into a DataFrame."
   ]
  },
  {
   "cell_type": "markdown",
   "metadata": {},
   "source": [
    "```python\n",
    "query = \"\"\"\n",
    "SELECT e.*, d.department_name \n",
    "FROM employees e\n",
    "JOIN departments d ON e.department_id = d.department_id\n",
    "\"\"\"\n",
    "df = pd.read_sql_query(query, conn)\n",
    "print(df.head())\n",
    "```"
   ]
  },
  {
   "cell_type": "markdown",
   "metadata": {},
   "source": [
    "### 4. **Grouping and Aggregating Data from SQL Database**:\n",
    "   - **Problem Statement**: Write a Pandas code snippet to query the `employees` table from `database.db`, group the data by `department_id`, and calculate the average salary for each department."
   ]
  },
  {
   "cell_type": "markdown",
   "metadata": {},
   "source": [
    " ```python\n",
    "   query = \"SELECT department_id, AVG(salary) AS avg_salary FROM employees GROUP BY department_id\"\n",
    "   df = pd.read_sql_query(query, conn)\n",
    "   print(df)\n",
    "   ```"
   ]
  },
  {
   "cell_type": "markdown",
   "metadata": {},
   "source": [
    "### 5. **Handling Missing Values in SQL Queries**:\n",
    "   - **Problem Statement**: Write a Pandas code snippet to query the `employees` table from `database.db` and load only the rows where the `salary` column is not null into a DataFrame."
   ]
  },
  {
   "cell_type": "markdown",
   "metadata": {},
   "source": [
    "\n",
    "   ```python\n",
    "   df = pd.read_sql_query(\"SELECT * FROM employees WHERE salary IS NOT NULL\", conn)\n",
    "   print(df.head())\n",
    "   ```"
   ]
  },
  {
   "cell_type": "markdown",
   "metadata": {},
   "source": [
    "### 6. **Sorting Data from SQL Database**:\n",
    "   - **Problem Statement**: Write a Pandas code snippet to query the `employees` table from `database.db` and load the data sorted by `salary` in descending order into a DataFrame."
   ]
  },
  {
   "cell_type": "markdown",
   "metadata": {},
   "source": [
    " ```python\n",
    "   df = pd.read_sql_query(\"SELECT * FROM employees ORDER BY salary DESC\", conn)\n",
    "   print(df.head())\n",
    "   ```"
   ]
  },
  {
   "cell_type": "markdown",
   "metadata": {},
   "source": [
    "### 7. **Querying with Multiple Conditions**:\n",
    "   - **Problem Statement**: Write a Pandas code snippet to query the `employees` table from `database.db` and load the rows where the `age` is greater than 30 and `department_id` is 1 into a DataFrame."
   ]
  },
  {
   "cell_type": "markdown",
   "metadata": {},
   "source": [
    "```python\n",
    "df = pd.read_sql_query(\"SELECT * FROM employees WHERE age > 30 AND department_id = 1\", conn)\n",
    "print(df.head())\n",
    "```"
   ]
  },
  {
   "cell_type": "markdown",
   "metadata": {},
   "source": [
    "### 8. **Using SQL Functions in Queries**:\n",
    "   - **Problem Statement**: Write a Pandas code snippet to query the `employees` table from `database.db` and load the data with an additional column `annual_salary` calculated as `salary * 12`."
   ]
  },
  {
   "cell_type": "markdown",
   "metadata": {},
   "source": [
    "```python\n",
    "   query = \"SELECT *, salary * 12 AS annual_salary FROM employees\"\n",
    "   df = pd.read_sql_query(query, conn)\n",
    "   print(df.head())\n",
    "   ```"
   ]
  },
  {
   "cell_type": "markdown",
   "metadata": {},
   "source": [
    "### 9. **Performing a Left Join**:\n",
    "   - **Problem Statement**: Given two tables `employees` and `departments` in `database.db`, write a Pandas code snippet to perform a left join on the `department_id` column and load the result into a DataFrame."
   ]
  },
  {
   "cell_type": "markdown",
   "metadata": {},
   "source": [
    "   ```python\n",
    "   query = \"\"\"\n",
    "   SELECT e.*, d.department_name \n",
    "   FROM employees e\n",
    "   LEFT JOIN departments d ON e.department_id = d.department_id\n",
    "   \"\"\"\n",
    "   df = pd.read_sql_query(query, conn)\n",
    "   print(df.head())\n",
    "   ```"
   ]
  },
  {
   "cell_type": "markdown",
   "metadata": {},
   "source": [
    "### 10. **Writing Data Back to SQL Database**:\n",
    "    - **Problem Statement**: Given a DataFrame `new_employees`, write a Pandas code snippet to insert this data into the `employees` table in `database.db`."
   ]
  },
  {
   "cell_type": "markdown",
   "metadata": {},
   "source": [
    "\n",
    "  \n",
    "\n",
    "\n",
    "   \n",
    "\n",
    "\n",
    "\n",
    "\n",
    "\n",
    "\n",
    "\n"
   ]
  },
  {
   "cell_type": "markdown",
   "metadata": {},
   "source": [
    "```python\n",
    "new_employees = pd.DataFrame({\n",
    "    'employee_id': [6, 7],\n",
    "    'name': ['Frank', 'Grace'],\n",
    "    'age': [28, 32],\n",
    "    'department_id': [2, 1],\n",
    "    'salary': [70000, 80000]\n",
    "})\n",
    "\n",
    "new_employees.to_sql('employees', conn, if_exists='append', index=False)\n",
    "df = pd.read_sql_query(\"SELECT * FROM employees\", conn)\n",
    "print(df.tail())\n",
    "```"
   ]
  },
  {
   "cell_type": "code",
   "execution_count": null,
   "metadata": {},
   "outputs": [],
   "source": []
  }
 ],
 "metadata": {
  "kernelspec": {
   "display_name": "Python 3",
   "language": "python",
   "name": "python3"
  },
  "language_info": {
   "codemirror_mode": {
    "name": "ipython",
    "version": 3
   },
   "file_extension": ".py",
   "mimetype": "text/x-python",
   "name": "python",
   "nbconvert_exporter": "python",
   "pygments_lexer": "ipython3",
   "version": "3.6.9"
  }
 },
 "nbformat": 4,
 "nbformat_minor": 4
}
