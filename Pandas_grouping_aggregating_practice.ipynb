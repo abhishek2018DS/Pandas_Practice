{
 "cells": [
  {
   "cell_type": "markdown",
   "metadata": {},
   "source": [
    "### 1. **Grouping by a Single Column**:\n",
    "   - **Problem Statement**: Given a DataFrame `df` with columns 'Department' and 'Salary', calculate the average salary for each department."
   ]
  },
  {
   "cell_type": "code",
   "execution_count": 1,
   "metadata": {},
   "outputs": [
    {
     "name": "stdout",
     "output_type": "stream",
     "text": [
      "Department\n",
      "Engineering    85000\n",
      "HR             52500\n",
      "Sales          60000\n",
      "Name: Salary, dtype: int64\n"
     ]
    }
   ],
   "source": [
    "import pandas as pd\n",
    "\n",
    "df = pd.DataFrame({\n",
    "   'Department': ['HR', 'Engineering', 'HR', 'Engineering', 'Sales'],\n",
    "   'Salary': [50000, 80000, 55000, 90000, 60000]\n",
    "})\n",
    "\n",
    "result = df.groupby('Department')['Salary'].mean()\n",
    "print(result)"
   ]
  },
  {
   "cell_type": "markdown",
   "metadata": {},
   "source": [
    "### 2. **Grouping by Multiple Columns**:\n",
    "   - **Problem Statement**: Given a DataFrame `df` with columns 'Department', 'Gender', and 'Salary', calculate the average salary for each department and gender combination."
   ]
  },
  {
   "cell_type": "code",
   "execution_count": 2,
   "metadata": {},
   "outputs": [
    {
     "name": "stdout",
     "output_type": "stream",
     "text": [
      "Department   Gender\n",
      "Engineering  F         80000\n",
      "             M         90000\n",
      "HR           F         50000\n",
      "             M         55000\n",
      "Sales        F         60000\n",
      "Name: Salary, dtype: int64\n"
     ]
    }
   ],
   "source": [
    "df = pd.DataFrame({\n",
    "   'Department': ['HR', 'HR', 'Engineering', 'Engineering', 'Sales'],\n",
    "   'Gender': ['F', 'M', 'F', 'M', 'F'],\n",
    "   'Salary': [50000, 55000, 80000, 90000, 60000]\n",
    "})\n",
    "\n",
    "result = df.groupby(['Department', 'Gender'])['Salary'].mean()\n",
    "print(result)"
   ]
  },
  {
   "cell_type": "markdown",
   "metadata": {},
   "source": [
    "### 3. **Aggregating with Multiple Functions**:\n",
    "   - **Problem Statement**: Given a DataFrame `df` with columns 'Department' and 'Salary', calculate both the average and total salary for each department."
   ]
  },
  {
   "cell_type": "code",
   "execution_count": 3,
   "metadata": {},
   "outputs": [
    {
     "name": "stdout",
     "output_type": "stream",
     "text": [
      "              mean     sum\n",
      "Department                \n",
      "Engineering  85000  170000\n",
      "HR           52500  105000\n",
      "Sales        60000   60000\n"
     ]
    }
   ],
   "source": [
    "df = pd.DataFrame({\n",
    "   'Department': ['HR', 'Engineering', 'HR', 'Engineering', 'Sales'],\n",
    "   'Salary': [50000, 80000, 55000, 90000, 60000]\n",
    "})\n",
    "\n",
    "result = df.groupby('Department')['Salary'].agg(['mean', 'sum'])\n",
    "print(result)"
   ]
  },
  {
   "cell_type": "markdown",
   "metadata": {},
   "source": [
    "### 4. **Custom Aggregation Functions**:\n",
    "   - **Problem Statement**: Given a DataFrame `df` with columns 'Department' and 'Salary', calculate the range of salaries (max - min) for each department."
   ]
  },
  {
   "cell_type": "code",
   "execution_count": 4,
   "metadata": {},
   "outputs": [
    {
     "name": "stdout",
     "output_type": "stream",
     "text": [
      "Department\n",
      "Engineering    10000\n",
      "HR              5000\n",
      "Sales              0\n",
      "Name: Salary, dtype: int64\n"
     ]
    }
   ],
   "source": [
    "def salary_range(x):\n",
    "   return x.max() - x.min()\n",
    "\n",
    "df = pd.DataFrame({\n",
    "   'Department': ['HR', 'Engineering', 'HR', 'Engineering', 'Sales'],\n",
    "   'Salary': [50000, 80000, 55000, 90000, 60000]\n",
    "})\n",
    "\n",
    "result = df.groupby('Department')['Salary'].agg(salary_range)\n",
    "print(result)"
   ]
  },
  {
   "cell_type": "markdown",
   "metadata": {},
   "source": [
    "### 5. **Counting Occurrences**:\n",
    "   - **Problem Statement**: Given a DataFrame `df` with columns 'Department' and 'Employee', count the number of employees in each department."
   ]
  },
  {
   "cell_type": "code",
   "execution_count": 5,
   "metadata": {},
   "outputs": [
    {
     "name": "stdout",
     "output_type": "stream",
     "text": [
      "Department\n",
      "Engineering    2\n",
      "HR             2\n",
      "Sales          1\n",
      "Name: Employee, dtype: int64\n"
     ]
    }
   ],
   "source": [
    "df = pd.DataFrame({\n",
    "   'Department': ['HR', 'Engineering', 'HR', 'Engineering', 'Sales'],\n",
    "   'Employee': ['Alice', 'Bob', 'Charlie', 'David', 'Eve']\n",
    "})\n",
    "\n",
    "result = df.groupby('Department')['Employee'].count()\n",
    "print(result)"
   ]
  },
  {
   "cell_type": "markdown",
   "metadata": {},
   "source": [
    "### 6. **Applying Multiple Aggregations to Different Columns**:\n",
    "   - **Problem Statement**: Given a DataFrame `df` with columns 'Department', 'Age', and 'Salary', calculate the average age and total salary for each department."
   ]
  },
  {
   "cell_type": "code",
   "execution_count": 6,
   "metadata": {},
   "outputs": [
    {
     "name": "stdout",
     "output_type": "stream",
     "text": [
      "             Age  Salary\n",
      "Department              \n",
      "Engineering   35  170000\n",
      "HR            30  105000\n",
      "Sales         28   60000\n"
     ]
    }
   ],
   "source": [
    "df = pd.DataFrame({\n",
    "   'Department': ['HR', 'Engineering', 'HR', 'Engineering', 'Sales'],\n",
    "   'Age': [25, 30, 35, 40, 28],\n",
    "   'Salary': [50000, 80000, 55000, 90000, 60000]\n",
    "})\n",
    "\n",
    "result = df.groupby('Department').agg({'Age': 'mean', 'Salary': 'sum'})\n",
    "print(result)"
   ]
  },
  {
   "cell_type": "markdown",
   "metadata": {},
   "source": [
    "### 7. **Using Transform for Group-Wise Operations**:\n",
    "   - **Problem Statement**: Given a DataFrame `df` with columns 'Department' and 'Salary', create a new column 'Salary_Rank' that contains the rank of each employee's salary within their department."
   ]
  },
  {
   "cell_type": "code",
   "execution_count": 7,
   "metadata": {},
   "outputs": [
    {
     "name": "stdout",
     "output_type": "stream",
     "text": [
      "    Department  Salary  Salary_Rank\n",
      "0           HR   50000          2.0\n",
      "1           HR   55000          1.0\n",
      "2  Engineering   80000          2.0\n",
      "3  Engineering   90000          1.0\n",
      "4        Sales   60000          1.0\n"
     ]
    }
   ],
   "source": [
    "df = pd.DataFrame({\n",
    "   'Department': ['HR', 'HR', 'Engineering', 'Engineering', 'Sales'],\n",
    "   'Salary': [50000, 55000, 80000, 90000, 60000]\n",
    "})\n",
    "\n",
    "df['Salary_Rank'] = df.groupby('Department')['Salary'].rank(ascending=False)\n",
    "print(df)"
   ]
  },
  {
   "cell_type": "markdown",
   "metadata": {},
   "source": [
    "### 8. **Filling Missing Values by Group**:\n",
    "   - **Problem Statement**: Given a DataFrame `df` with columns 'Department', 'Employee', and 'Salary', fill missing salary values with the average salary of their respective department."
   ]
  },
  {
   "cell_type": "code",
   "execution_count": 8,
   "metadata": {},
   "outputs": [
    {
     "name": "stdout",
     "output_type": "stream",
     "text": [
      "    Department Employee   Salary\n",
      "0           HR    Alice  50000.0\n",
      "1           HR      Bob  50000.0\n",
      "2  Engineering  Charlie  80000.0\n",
      "3  Engineering    David  90000.0\n",
      "4        Sales      Eve      NaN\n"
     ]
    }
   ],
   "source": [
    "df = pd.DataFrame({\n",
    "   'Department': ['HR', 'HR', 'Engineering', 'Engineering', 'Sales'],\n",
    "   'Employee': ['Alice', 'Bob', 'Charlie', 'David', 'Eve'],\n",
    "   'Salary': [50000, None, 80000, 90000, None]\n",
    "})\n",
    "\n",
    "df['Salary'] = df.groupby('Department')['Salary'].transform(lambda x: x.fillna(x.mean()))\n",
    "print(df)"
   ]
  },
  {
   "cell_type": "markdown",
   "metadata": {},
   "source": [
    "### 9. **Filtering Groups Based on a Condition**:\n",
    "   - **Problem Statement**: Given a DataFrame `df` with columns 'Department' and 'Salary', filter the departments to include only those with an average salary greater than 60,000."
   ]
  },
  {
   "cell_type": "code",
   "execution_count": 9,
   "metadata": {},
   "outputs": [
    {
     "name": "stdout",
     "output_type": "stream",
     "text": [
      "    Department  Salary\n",
      "1  Engineering   80000\n",
      "3  Engineering   90000\n"
     ]
    }
   ],
   "source": [
    "df = pd.DataFrame({\n",
    "   'Department': ['HR', 'Engineering', 'HR', 'Engineering', 'Sales'],\n",
    "   'Salary': [50000, 80000, 55000, 90000, 60000]\n",
    "})\n",
    "\n",
    "avg_salary = df.groupby('Department')['Salary'].mean()\n",
    "filtered_departments = avg_salary[avg_salary > 60000].index\n",
    "result = df[df['Department'].isin(filtered_departments)]\n",
    "print(result)"
   ]
  },
  {
   "cell_type": "markdown",
   "metadata": {},
   "source": [
    "### 10. **Calculating Grouped Cumulative Sums**:\n",
    "   **Problem Statement**: Given a DataFrame `df` with columns 'Department' and 'Sales', calculate the cumulative sales for each department."
   ]
  },
  {
   "cell_type": "code",
   "execution_count": 10,
   "metadata": {},
   "outputs": [
    {
     "name": "stdout",
     "output_type": "stream",
     "text": [
      "    Department  Sales  Cumulative_Sales\n",
      "0           HR    100               100\n",
      "1           HR    150               250\n",
      "2  Engineering    200               200\n",
      "3  Engineering    250               450\n",
      "4        Sales    300               300\n"
     ]
    }
   ],
   "source": [
    "df = pd.DataFrame({\n",
    "    'Department': ['HR', 'HR', 'Engineering', 'Engineering', 'Sales'],\n",
    "    'Sales': [100, 150, 200, 250, 300]\n",
    "})\n",
    "\n",
    "df['Cumulative_Sales'] = df.groupby('Department')['Sales'].cumsum()\n",
    "print(df)"
   ]
  },
  {
   "cell_type": "markdown",
   "metadata": {},
   "source": [
    "### 11. **Calculating Grouped Rolling Windows**:\n",
    "   **Problem Statement**: Given a DataFrame `df` with columns 'Department', 'Date', and 'Sales', calculate the 3-day rolling average sales for each department."
   ]
  },
  {
   "cell_type": "code",
   "execution_count": 11,
   "metadata": {},
   "outputs": [
    {
     "name": "stdout",
     "output_type": "stream",
     "text": [
      "    Department       Date  Sales  Rolling_Avg_Sales\n",
      "0           HR 2022-01-01    100                NaN\n",
      "1           HR 2022-01-02    150                NaN\n",
      "2           HR 2022-01-03    200              150.0\n",
      "3  Engineering 2022-01-04    200                NaN\n",
      "4  Engineering 2022-01-05    250                NaN\n",
      "5  Engineering 2022-01-06    300              250.0\n",
      "6        Sales 2022-01-07    300                NaN\n",
      "7        Sales 2022-01-08    350                NaN\n",
      "8        Sales 2022-01-09    400              350.0\n"
     ]
    }
   ],
   "source": [
    "df = pd.DataFrame({\n",
    "    'Department': ['HR', 'HR', 'HR', 'Engineering', 'Engineering', 'Engineering', 'Sales', 'Sales', 'Sales'],\n",
    "    'Date': pd.date_range(start='2022-01-01', periods=9),\n",
    "    'Sales': [100, 150, 200, 200, 250, 300, 300, 350, 400]\n",
    "})\n",
    "\n",
    "df['Rolling_Avg_Sales'] = df.groupby('Department')['Sales'].rolling(window=3).mean().reset_index(0, drop=True)\n",
    "print(df)"
   ]
  },
  {
   "cell_type": "markdown",
   "metadata": {},
   "source": [
    "### 12. **Grouping by Date Components**:\n",
    "   **Problem Statement**: Given a DataFrame `df` with columns 'Date' and 'Sales', calculate the total sales for each year."
   ]
  },
  {
   "cell_type": "code",
   "execution_count": 12,
   "metadata": {},
   "outputs": [
    {
     "name": "stdout",
     "output_type": "stream",
     "text": [
      "Year\n",
      "2020     66795\n",
      "2021    200020\n",
      "2022    332150\n",
      "Name: Sales, dtype: int64\n"
     ]
    }
   ],
   "source": [
    "df = pd.DataFrame({\n",
    "    'Date': pd.date_range(start='2020-01-01', periods=365*3),\n",
    "    'Sales': range(365*3)\n",
    "})\n",
    "\n",
    "df['Year'] = df['Date'].dt.year\n",
    "result = df.groupby('Year')['Sales'].sum()\n",
    "print(result)"
   ]
  },
  {
   "cell_type": "markdown",
   "metadata": {},
   "source": [
    "### 13. **Aggregating with Different Functions for Different Columns**:\n",
    "   **Problem Statement**: Given a DataFrame `df` with columns 'Department', 'Age', and 'Salary', calculate the minimum age and the maximum salary for each department."
   ]
  },
  {
   "cell_type": "code",
   "execution_count": 13,
   "metadata": {},
   "outputs": [
    {
     "name": "stdout",
     "output_type": "stream",
     "text": [
      "             Age  Salary\n",
      "Department              \n",
      "Engineering   30   90000\n",
      "HR            25   55000\n",
      "Sales         28   60000\n"
     ]
    }
   ],
   "source": [
    "df = pd.DataFrame({\n",
    "    'Department': ['HR', 'Engineering', 'HR', 'Engineering', 'Sales'],\n",
    "    'Age': [25, 30, 35, 40, 28],\n",
    "    'Salary': [50000, 80000, 55000, 90000, 60000]\n",
    "})\n",
    "\n",
    "result = df.groupby('Department').agg({'Age': 'min', 'Salary': 'max'})\n",
    "print(result)"
   ]
  },
  {
   "cell_type": "markdown",
   "metadata": {},
   "source": [
    "### 14. **Pivot Table for Aggregation**:\n",
    "   **Problem Statement**: Given a DataFrame `df` with columns 'Department', 'Gender', and 'Salary', create a pivot table to calculate the average salary for each department and gender combination."
   ]
  },
  {
   "cell_type": "code",
   "execution_count": 14,
   "metadata": {},
   "outputs": [
    {
     "name": "stdout",
     "output_type": "stream",
     "text": [
      "Gender             F        M\n",
      "Department                   \n",
      "Engineering  80000.0  90000.0\n",
      "HR           50000.0  55000.0\n",
      "Sales        60000.0      NaN\n"
     ]
    }
   ],
   "source": [
    "df = pd.DataFrame({\n",
    "    'Department': ['HR', 'HR', 'Engineering', 'Engineering', 'Sales'],\n",
    "    'Gender': ['F', 'M', 'F', 'M', 'F'],\n",
    "    'Salary': [50000, 55000, 80000, 90000, 60000]\n",
    "})\n",
    "\n",
    "pivot_table = df.pivot_table(values='Salary', index='Department', columns='Gender', aggfunc='mean')\n",
    "print(pivot_table)"
   ]
  },
  {
   "cell_type": "markdown",
   "metadata": {},
   "source": [
    "### 15. **Group and Aggregate with Multiple Index Levels**:\n",
    "   **Problem Statement**: Given a DataFrame `df` with columns 'Country', 'City', and 'Population\n",
    "\n",
    "', calculate the total population for each country and city combination."
   ]
  },
  {
   "cell_type": "code",
   "execution_count": 15,
   "metadata": {},
   "outputs": [
    {
     "name": "stdout",
     "output_type": "stream",
     "text": [
      "Country  City       \n",
      "Canada   Toronto        3000000\n",
      "         Vancouver      2500000\n",
      "Mexico   Mexico City    9000000\n",
      "USA      Los Angeles    4000000\n",
      "         New York       8000000\n",
      "Name: Population, dtype: int64\n"
     ]
    }
   ],
   "source": [
    "df = pd.DataFrame({\n",
    "    'Country': ['USA', 'USA', 'Canada', 'Canada', 'Mexico'],\n",
    "    'City': ['New York', 'Los Angeles', 'Toronto', 'Vancouver', 'Mexico City'],\n",
    "    'Population': [8000000, 4000000, 3000000, 2500000, 9000000]\n",
    "})\n",
    "\n",
    "result = df.groupby(['Country', 'City'])['Population'].sum()\n",
    "print(result)"
   ]
  },
  {
   "cell_type": "code",
   "execution_count": null,
   "metadata": {},
   "outputs": [],
   "source": []
  }
 ],
 "metadata": {
  "kernelspec": {
   "display_name": "Python 3",
   "language": "python",
   "name": "python3"
  },
  "language_info": {
   "codemirror_mode": {
    "name": "ipython",
    "version": 3
   },
   "file_extension": ".py",
   "mimetype": "text/x-python",
   "name": "python",
   "nbconvert_exporter": "python",
   "pygments_lexer": "ipython3",
   "version": "3.6.9"
  }
 },
 "nbformat": 4,
 "nbformat_minor": 4
}
