{
 "cells": [
  {
   "cell_type": "markdown",
   "metadata": {},
   "source": [
    "### 1. **Creating a Date Range**:\n",
    "   - **Problem Statement**: Create a DataFrame `df` with a date range from March 1, 2022, to March 10, 2022, with daily frequency."
   ]
  },
  {
   "cell_type": "code",
   "execution_count": 1,
   "metadata": {},
   "outputs": [
    {
     "name": "stdout",
     "output_type": "stream",
     "text": [
      "        Date\n",
      "0 2022-03-01\n",
      "1 2022-03-02\n",
      "2 2022-03-03\n",
      "3 2022-03-04\n",
      "4 2022-03-05\n",
      "5 2022-03-06\n",
      "6 2022-03-07\n",
      "7 2022-03-08\n",
      "8 2022-03-09\n",
      "9 2022-03-10\n"
     ]
    }
   ],
   "source": [
    "import pandas as pd\n",
    "\n",
    "date_range = pd.date_range(start='2022-03-01', end='2022-03-10', freq='D')\n",
    "df = pd.DataFrame({'Date': date_range})\n",
    "print(df)"
   ]
  },
  {
   "cell_type": "markdown",
   "metadata": {},
   "source": [
    "### 2. **Converting Strings to DateTime**:\n",
    "   - **Problem Statement**: Given a DataFrame `df` with a column 'Date_String' containing date strings in the format 'YYYY-MM-DD', convert this column to DateTime objects."
   ]
  },
  {
   "cell_type": "code",
   "execution_count": 2,
   "metadata": {},
   "outputs": [
    {
     "name": "stdout",
     "output_type": "stream",
     "text": [
      "  Date_String       Date\n",
      "0  2022-03-01 2022-03-01\n",
      "1  2022-03-02 2022-03-02\n",
      "2  2022-03-03 2022-03-03\n"
     ]
    }
   ],
   "source": [
    "df = pd.DataFrame({\n",
    "   'Date_String': ['2022-03-01', '2022-03-02', '2022-03-03']\n",
    "})\n",
    "\n",
    "df['Date'] = pd.to_datetime(df['Date_String'])\n",
    "print(df)"
   ]
  },
  {
   "cell_type": "markdown",
   "metadata": {},
   "source": [
    "### 3. **Extracting Date Components**:\n",
    "   - **Problem Statement**: Given a DataFrame `df` with a column 'Date' containing DateTime objects, create new columns for the year, month, and day."
   ]
  },
  {
   "cell_type": "code",
   "execution_count": 3,
   "metadata": {},
   "outputs": [
    {
     "name": "stdout",
     "output_type": "stream",
     "text": [
      "        Date  Year  Month  Day\n",
      "0 2022-03-01  2022      3    1\n",
      "1 2022-03-02  2022      3    2\n",
      "2 2022-03-03  2022      3    3\n"
     ]
    }
   ],
   "source": [
    "df = pd.DataFrame({\n",
    "   'Date': pd.date_range(start='2022-03-01', periods=3, freq='D')\n",
    "})\n",
    "\n",
    "df['Year'] = df['Date'].dt.year\n",
    "df['Month'] = df['Date'].dt.month\n",
    "df['Day'] = df['Date'].dt.day\n",
    "print(df)"
   ]
  },
  {
   "cell_type": "markdown",
   "metadata": {},
   "source": [
    "### 4. **Filtering by Date**:\n",
    "   - **Problem Statement**: Given a DataFrame `df` with a column 'Date' containing DateTime objects, filter the rows to include only dates in March 2022."
   ]
  },
  {
   "cell_type": "code",
   "execution_count": 4,
   "metadata": {},
   "outputs": [
    {
     "name": "stdout",
     "output_type": "stream",
     "text": [
      "        Date\n",
      "4 2022-03-01\n",
      "5 2022-03-02\n",
      "6 2022-03-03\n",
      "7 2022-03-04\n",
      "8 2022-03-05\n"
     ]
    }
   ],
   "source": [
    "df = pd.DataFrame({\n",
    "   'Date': pd.date_range(start='2022-02-25', end='2022-03-05', freq='D')\n",
    "})\n",
    "\n",
    "march_df = df[df['Date'].dt.month == 3]\n",
    "print(march_df)"
   ]
  },
  {
   "cell_type": "markdown",
   "metadata": {},
   "source": [
    "###  5. **Calculating Date Differences**:\n",
    "   - **Problem Statement**: Given a DataFrame `df` with columns 'Start_Date' and 'End_Date' containing DateTime objects, calculate the difference in days between 'End_Date' and 'Start_Date'."
   ]
  },
  {
   "cell_type": "code",
   "execution_count": 5,
   "metadata": {},
   "outputs": [
    {
     "name": "stdout",
     "output_type": "stream",
     "text": [
      "  Start_Date   End_Date  Difference\n",
      "0 2022-03-01 2022-03-10           9\n",
      "1 2022-03-02 2022-03-05           3\n"
     ]
    }
   ],
   "source": [
    "df = pd.DataFrame({\n",
    "   'Start_Date': pd.to_datetime(['2022-03-01', '2022-03-02']),\n",
    "   'End_Date': pd.to_datetime(['2022-03-10', '2022-03-05'])\n",
    "})\n",
    "\n",
    "df['Difference'] = (df['End_Date'] - df['Start_Date']).dt.days\n",
    "print(df)"
   ]
  },
  {
   "cell_type": "markdown",
   "metadata": {},
   "source": [
    "### 6. **Setting a DateTime Index**:\n",
    "   - **Problem Statement**: Given a DataFrame `df` with a column 'Date' containing DateTime objects, set the 'Date' column as the index of the DataFrame."
   ]
  },
  {
   "cell_type": "code",
   "execution_count": 6,
   "metadata": {},
   "outputs": [
    {
     "name": "stdout",
     "output_type": "stream",
     "text": [
      "            Value\n",
      "Date             \n",
      "2022-03-01     10\n",
      "2022-03-02     20\n",
      "2022-03-03     30\n",
      "2022-03-04     40\n",
      "2022-03-05     50\n"
     ]
    }
   ],
   "source": [
    "df = pd.DataFrame({\n",
    "   'Date': pd.date_range(start='2022-03-01', periods=5, freq='D'),\n",
    "   'Value': [10, 20, 30, 40, 50]\n",
    "})\n",
    "\n",
    "df.set_index('Date', inplace=True)\n",
    "print(df)"
   ]
  },
  {
   "cell_type": "markdown",
   "metadata": {},
   "source": [
    "### 7. **Resampling Time Series Data**:\n",
    "   - **Problem Statement**: Given a DataFrame `df` with a DateTime index and a 'Value' column, resample the data to weekly frequency, calculating the mean 'Value' for each week."
   ]
  },
  {
   "cell_type": "code",
   "execution_count": 7,
   "metadata": {},
   "outputs": [
    {
     "name": "stdout",
     "output_type": "stream",
     "text": [
      "            Value\n",
      "Date             \n",
      "2022-03-06    2.5\n",
      "2022-03-13    9.0\n",
      "2022-03-20   16.0\n",
      "2022-03-27   23.0\n",
      "2022-04-03   28.0\n"
     ]
    }
   ],
   "source": [
    "df = pd.DataFrame({\n",
    "   'Date': pd.date_range(start='2022-03-01', periods=30, freq='D'),\n",
    "   'Value': range(30)\n",
    "})\n",
    "df.set_index('Date', inplace=True)\n",
    "\n",
    "weekly_df = df.resample('W').mean()\n",
    "print(weekly_df)"
   ]
  },
  {
   "cell_type": "markdown",
   "metadata": {},
   "source": [
    "### 8. **Timezone Conversion**:\n",
    "   - **Problem Statement**: Given a DataFrame `df` with a column 'Timestamp' containing DateTime objects in UTC, convert the 'Timestamp' column to Eastern Time (ET)."
   ]
  },
  {
   "cell_type": "code",
   "execution_count": 8,
   "metadata": {},
   "outputs": [
    {
     "name": "stdout",
     "output_type": "stream",
     "text": [
      "                  Timestamp              Timestamp_ET\n",
      "0 2022-03-01 00:00:00+00:00 2022-02-28 19:00:00-05:00\n",
      "1 2022-03-02 00:00:00+00:00 2022-03-01 19:00:00-05:00\n",
      "2 2022-03-03 00:00:00+00:00 2022-03-02 19:00:00-05:00\n",
      "3 2022-03-04 00:00:00+00:00 2022-03-03 19:00:00-05:00\n",
      "4 2022-03-05 00:00:00+00:00 2022-03-04 19:00:00-05:00\n"
     ]
    }
   ],
   "source": [
    "df = pd.DataFrame({\n",
    "   'Timestamp': pd.date_range(start='2022-03-01', periods=5, freq='D', tz='UTC')\n",
    "})\n",
    "\n",
    "df['Timestamp_ET'] = df['Timestamp'].dt.tz_convert('US/Eastern')\n",
    "print(df)"
   ]
  },
  {
   "cell_type": "markdown",
   "metadata": {},
   "source": [
    "### 9. **Date Offset Calculation**:\n",
    "   - **Problem Statement**: Given a DataFrame `df` with a column 'Date' containing DateTime objects, add 5 business days to each date in the 'Date' column."
   ]
  },
  {
   "cell_type": "code",
   "execution_count": 9,
   "metadata": {},
   "outputs": [
    {
     "name": "stdout",
     "output_type": "stream",
     "text": [
      "        Date Date_Offset\n",
      "0 2022-03-01  2022-03-08\n",
      "1 2022-03-02  2022-03-09\n",
      "2 2022-03-03  2022-03-10\n",
      "3 2022-03-04  2022-03-11\n",
      "4 2022-03-05  2022-03-11\n"
     ]
    }
   ],
   "source": [
    "df = pd.DataFrame({\n",
    "   'Date': pd.date_range(start='2022-03-01', periods=5, freq='D')\n",
    "})\n",
    "\n",
    "df['Date_Offset'] = df['Date'] + pd.offsets.BDay(5)\n",
    "print(df)"
   ]
  },
  {
   "cell_type": "markdown",
   "metadata": {},
   "source": [
    "### 10. **Handling Missing Dates**:\n",
    "    - **Problem Statement**: Given a DataFrame `df` with a DateTime index that has missing dates, reindex the DataFrame to include all dates in the given range and fill missing values with 0."
   ]
  },
  {
   "cell_type": "code",
   "execution_count": 10,
   "metadata": {},
   "outputs": [
    {
     "name": "stdout",
     "output_type": "stream",
     "text": [
      "            Value\n",
      "2022-03-01     10\n",
      "2022-03-02      0\n",
      "2022-03-03     20\n",
      "2022-03-04     30\n",
      "2022-03-05      0\n"
     ]
    }
   ],
   "source": [
    "df = pd.DataFrame({\n",
    "    'Date': pd.to_datetime(['2022-03-01', '2022-03-03', '2022-03-04']),\n",
    "    'Value': [10, 20, 30]\n",
    "})\n",
    "df.set_index('Date', inplace=True)\n",
    "\n",
    "all_dates = pd.date_range(start='2022-03-01', end='2022-03-05', freq='D')\n",
    "df = df.reindex(all_dates, fill_value=0)\n",
    "print(df)"
   ]
  },
  {
   "cell_type": "code",
   "execution_count": null,
   "metadata": {},
   "outputs": [],
   "source": []
  }
 ],
 "metadata": {
  "kernelspec": {
   "display_name": "Python 3",
   "language": "python",
   "name": "python3"
  },
  "language_info": {
   "codemirror_mode": {
    "name": "ipython",
    "version": 3
   },
   "file_extension": ".py",
   "mimetype": "text/x-python",
   "name": "python",
   "nbconvert_exporter": "python",
   "pygments_lexer": "ipython3",
   "version": "3.6.9"
  }
 },
 "nbformat": 4,
 "nbformat_minor": 4
}
