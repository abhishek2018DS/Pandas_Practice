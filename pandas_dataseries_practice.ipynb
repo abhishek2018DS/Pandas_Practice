{
 "cells": [
  {
   "cell_type": "markdown",
   "metadata": {},
   "source": [
    "1. **Create and Manipulate a Series**:\n",
    "      - Create a Pandas Series from a list, array, and dictionary. Set custom indices and perform basic operations like adding and deleting elements.\n",
    "  "
   ]
  },
  {
   "cell_type": "code",
   "execution_count": 1,
   "metadata": {},
   "outputs": [
    {
     "name": "stdout",
     "output_type": "stream",
     "text": [
      "0    10\n",
      "1    20\n",
      "2    30\n",
      "3    40\n",
      "4    50\n",
      "dtype: int64\n",
      "0    1\n",
      "1    2\n",
      "2    3\n",
      "3    4\n",
      "4    5\n",
      "dtype: int64\n",
      "a    100\n",
      "b    200\n",
      "c    300\n",
      "dtype: int64\n"
     ]
    }
   ],
   "source": [
    "import pandas as pd\n",
    "\n",
    "# Creating a Series from a list\n",
    "data = [10, 20, 30, 40, 50]\n",
    "series1 = pd.Series(data)\n",
    "print(series1)\n",
    "\n",
    "# Creating a Series from an array\n",
    "import numpy as np\n",
    "array = np.array([1, 2, 3, 4, 5])\n",
    "series2 = pd.Series(array)\n",
    "print(series2)\n",
    "\n",
    "# Creating a Series from a dictionary\n",
    "dict_data = {'a': 100, 'b': 200, 'c': 300}\n",
    "series3 = pd.Series(dict_data)\n",
    "print(series3)"
   ]
  },
  {
   "cell_type": "markdown",
   "metadata": {},
   "source": [
    "2. **Indexing and Slicing**:\n",
    "   - Access elements, perform slicing, and update values in a Series.\n",
    "   "
   ]
  },
  {
   "cell_type": "code",
   "execution_count": 6,
   "metadata": {},
   "outputs": [
    {
     "name": "stdout",
     "output_type": "stream",
     "text": [
      "10\n",
      "200\n",
      "1    20\n",
      "2    35\n",
      "3    40\n",
      "dtype: int64\n",
      "0    10\n",
      "1    20\n",
      "2    35\n",
      "3    40\n",
      "4    50\n",
      "dtype: int64\n"
     ]
    }
   ],
   "source": [
    "# Accessing elements\n",
    "print(series1[0])  # First element\n",
    "print(series3['b'])  # Element with index 'b'\n",
    "\n",
    "# Slicing\n",
    "print(series1[1:4])  # Elements from index 1 to 3\n",
    "\n",
    "# Updating values\n",
    "series1[2] = 35\n",
    "print(series1)\n"
   ]
  },
  {
   "cell_type": "code",
   "execution_count": 3,
   "metadata": {},
   "outputs": [
    {
     "name": "stdout",
     "output_type": "stream",
     "text": [
      "10\n",
      "200\n",
      "1    20\n",
      "2    30\n",
      "3    40\n",
      "dtype: int64\n",
      "0    10\n",
      "1    20\n",
      "2    35\n",
      "3    40\n",
      "4    50\n",
      "dtype: int64\n"
     ]
    }
   ],
   "source": [
    "# Accessing elements\n",
    "print(series1[0])  # First element\n",
    "print(series3['b'])  # Element with index 'b'\n",
    "\n",
    "# Slicing\n",
    "print(series1[1:4])  # Elements from index 1 to 3\n",
    "\n",
    "# Updating values\n",
    "series1[2] = 35\n",
    "print(series1)\n"
   ]
  },
  {
   "cell_type": "markdown",
   "metadata": {},
   "source": [
    "3. **Arithmetic Operations**:\n",
    "   - Perform element-wise arithmetic operations between two Series.\n",
    "   ```python\n",
    "   series4 = pd.Series([1, 2, 3, 4, 5])\n",
    "   series5 = pd.Series([10, 20, 30, 40, 50])\n",
    "   result_add = series4 + series5\n",
    "   result_subtract = series5 - series4\n",
    "   print(result_add)\n",
    "   print(result_subtract)\n",
    "   ```"
   ]
  },
  {
   "cell_type": "markdown",
   "metadata": {},
   "source": [
    "4. **Conditional Selection**:\n",
    "   - Use boolean indexing to filter elements that satisfy a condition.\n",
    "   ```python\n",
    "   series6 = pd.Series([5, 10, 15, 20, 25, 30])\n",
    "   filtered_series = series6[series6 > 15]\n",
    "   print(filtered_series)\n",
    "   ```"
   ]
  },
  {
   "cell_type": "markdown",
   "metadata": {},
   "source": [
    "5. **Handling Missing Data**:\n",
    "   - Detect and handle missing data in a Series using methods like `isnull`, `notnull`, `dropna`, and `fillna`.\n",
    "  "
   ]
  },
  {
   "cell_type": "code",
   "execution_count": 7,
   "metadata": {},
   "outputs": [
    {
     "name": "stdout",
     "output_type": "stream",
     "text": [
      "0    False\n",
      "1    False\n",
      "2     True\n",
      "3    False\n",
      "4     True\n",
      "5    False\n",
      "dtype: bool\n",
      "0    1.0\n",
      "1    2.0\n",
      "3    4.0\n",
      "5    6.0\n",
      "dtype: float64\n",
      "0    1.0\n",
      "1    2.0\n",
      "2    0.0\n",
      "3    4.0\n",
      "4    0.0\n",
      "5    6.0\n",
      "dtype: float64\n"
     ]
    }
   ],
   "source": [
    "series7 = pd.Series([1, 2, np.nan, 4, np.nan, 6])\n",
    "print(series7.isnull())  # Detect missing values\n",
    "print(series7.dropna())  # Remove missing values\n",
    "print(series7.fillna(0))  # Replace missing values with 0"
   ]
  },
  {
   "cell_type": "markdown",
   "metadata": {},
   "source": [
    "6. **String Operations**:\n",
    "   - Apply string operations on a Series of strings using the `str` accessor.\n",
    "  "
   ]
  },
  {
   "cell_type": "code",
   "execution_count": 8,
   "metadata": {},
   "outputs": [
    {
     "name": "stdout",
     "output_type": "stream",
     "text": [
      "0     APPLE\n",
      "1    BANANA\n",
      "2    CHERRY\n",
      "3      DATE\n",
      "dtype: object\n",
      "0     apple\n",
      "1    banana\n",
      "3      date\n",
      "dtype: object\n"
     ]
    }
   ],
   "source": [
    "series8 = pd.Series(['apple', 'banana', 'cherry', 'date'])\n",
    "upper_series = series8.str.upper()\n",
    "contains_a = series8[series8.str.contains('a')]\n",
    "print(upper_series)\n",
    "print(contains_a)"
   ]
  },
  {
   "cell_type": "markdown",
   "metadata": {},
   "source": [
    "7. **Applying Functions**:\n",
    "   - Use the `apply` method to apply custom functions to each element in a Series.\n",
    "   "
   ]
  },
  {
   "cell_type": "code",
   "execution_count": 9,
   "metadata": {},
   "outputs": [
    {
     "name": "stdout",
     "output_type": "stream",
     "text": [
      "0     1\n",
      "1     4\n",
      "2     9\n",
      "3    16\n",
      "4    25\n",
      "dtype: int64\n"
     ]
    }
   ],
   "source": [
    "series9 = pd.Series([1, 2, 3, 4, 5])\n",
    "square_function = series9.apply(lambda x: x**2)\n",
    "print(square_function)"
   ]
  },
  {
   "cell_type": "markdown",
   "metadata": {},
   "source": [
    "8. **Rank and Sort**:\n",
    "   - Rank the elements in a Series and sort them in ascending and descending order.\n",
    "   "
   ]
  },
  {
   "cell_type": "code",
   "execution_count": 10,
   "metadata": {},
   "outputs": [
    {
     "name": "stdout",
     "output_type": "stream",
     "text": [
      "0    1.0\n",
      "1    3.0\n",
      "2    2.0\n",
      "3    5.0\n",
      "4    4.0\n",
      "dtype: float64\n",
      "0    100\n",
      "2    200\n",
      "1    300\n",
      "4    400\n",
      "3    500\n",
      "dtype: int64\n",
      "3    500\n",
      "4    400\n",
      "1    300\n",
      "2    200\n",
      "0    100\n",
      "dtype: int64\n"
     ]
    }
   ],
   "source": [
    "series10 = pd.Series([100, 300, 200, 500, 400])\n",
    "ranked_series = series10.rank()\n",
    "sorted_series_asc = series10.sort_values()\n",
    "sorted_series_desc = series10.sort_values(ascending=False)\n",
    "print(ranked_series)\n",
    "print(sorted_series_asc)\n",
    "print(sorted_series_desc)"
   ]
  },
  {
   "cell_type": "markdown",
   "metadata": {},
   "source": [
    "9. **Statistical Operations**:\n",
    "   - Compute basic statistical measures like mean, median, mode, standard deviation, and sum.\n",
    "   "
   ]
  },
  {
   "cell_type": "code",
   "execution_count": 11,
   "metadata": {},
   "outputs": [
    {
     "name": "stdout",
     "output_type": "stream",
     "text": [
      "Mean: 30.0, Median: 30.0, Std Dev: 15.811388300841896, Sum: 150\n"
     ]
    }
   ],
   "source": [
    "series11 = pd.Series([10, 20, 30, 40, 50])\n",
    "mean = series11.mean()\n",
    "median = series11.median()\n",
    "std_dev = series11.std()\n",
    "total_sum = series11.sum()\n",
    "print(f\"Mean: {mean}, Median: {median}, Std Dev: {std_dev}, Sum: {total_sum}\")"
   ]
  },
  {
   "cell_type": "markdown",
   "metadata": {},
   "source": [
    "10. **Value Counts and Unique Values**:\n",
    "    - Determine the frequency of unique values and extract unique values in a Series.\n",
    "    "
   ]
  },
  {
   "cell_type": "code",
   "execution_count": 12,
   "metadata": {},
   "outputs": [
    {
     "name": "stdout",
     "output_type": "stream",
     "text": [
      "4    4\n",
      "3    3\n",
      "2    2\n",
      "1    1\n",
      "dtype: int64\n",
      "[1 2 3 4]\n"
     ]
    }
   ],
   "source": [
    "series12 = pd.Series([1, 2, 2, 3, 3, 3, 4, 4, 4, 4])\n",
    "value_counts = series12.value_counts()\n",
    "unique_values = series12.unique()\n",
    "print(value_counts)\n",
    "print(unique_values)"
   ]
  },
  {
   "cell_type": "markdown",
   "metadata": {},
   "source": [
    "1.**Stock Price Analysis**:\n",
    "\n",
    " - **Problem Statement**: You have historical stock price data for a company in the form of a Pandas Series, where the index represents the dates and the values represent the closing prices. Your task is to analyze the stock's performance over time by calculating the moving average, detecting significant price changes, and identifying the best and worst performing periods.\n",
    " \n",
    " #### Sample data creation\n",
    " \n",
    "dates = pd.date_range(start='2023-01-01', periods=100)\n",
    "\n",
    "prices = pd.Series(np.random.randint(100, 200, size=100), index=dates)\n"
   ]
  },
  {
   "cell_type": "code",
   "execution_count": 13,
   "metadata": {},
   "outputs": [],
   "source": [
    "# 1. calculate Moving Average\n",
    "#2. Detecting Significant price changes\n",
    "#3. Identify the best and worst performing periods\n",
    "\n",
    "import pandas as pd\n",
    "import numpy as np\n",
    "\n",
    "#sample data creation\n",
    "dates = pd.date_range(start='2023-01-01', periods=100)\n",
    "prices = pd.Series(np.random.randint(100, 200, size=100), index=dates)\n",
    "\n",
    "# Calculate moving average\n",
    "moving_average = prices.rolling(window=7).mean() \n",
    "\"\"\"The window parameter is set to 7, indicating that the moving average will be calculated for a window of 7 consecutive elements from the prices list.\"\"\"\n",
    "\n",
    "# Detect significant price changes (e.g., > 5%)\n",
    "significant_changes = prices.pct_change().abs() > 0.05\n",
    "\n",
    "# Identify best and worst performing periods\n",
    "best_period = prices.idxmax()\n",
    "worst_period = prices.idxmin()"
   ]
  },
  {
   "cell_type": "code",
   "execution_count": 16,
   "metadata": {},
   "outputs": [
    {
     "name": "stdout",
     "output_type": "stream",
     "text": [
      "Moving Average 2023-01-01           NaN\n",
      "2023-01-02           NaN\n",
      "2023-01-03           NaN\n",
      "2023-01-04           NaN\n",
      "2023-01-05           NaN\n",
      "                 ...    \n",
      "2023-04-06    142.142857\n",
      "2023-04-07    142.285714\n",
      "2023-04-08    152.714286\n",
      "2023-04-09    152.714286\n",
      "2023-04-10    142.000000\n",
      "Freq: D, Length: 100, dtype: float64, significant changes 2023-01-01    False\n",
      "2023-01-02     True\n",
      "2023-01-03     True\n",
      "2023-01-04     True\n",
      "2023-01-05     True\n",
      "              ...  \n",
      "2023-04-06     True\n",
      "2023-04-07     True\n",
      "2023-04-08     True\n",
      "2023-04-09     True\n",
      "2023-04-10     True\n",
      "Freq: D, Length: 100, dtype: bool, Best Priod 2023-01-20 00:00:00 and Worst Period 2023-03-04 00:00:00\n"
     ]
    }
   ],
   "source": [
    "print(\"Moving Average {}, significant changes {}, Best Priod {} and Worst Period {}\".format(moving_average, significant_changes, best_period, worst_period))"
   ]
  },
  {
   "cell_type": "markdown",
   "metadata": {},
   "source": [
    "### 2. Sales Data Analysis:\n",
    "\n",
    "**Problem Statement**: You have monthly sales data for a retail store in the form of a Pandas Series, where the index represents the months and the values represent the sales figures. Your task is to analyze the sales trend, identify seasonal patterns, and calculate the year-over-year growth rate.\n",
    "\n",
    "#### Sample data creation\n",
    "\n",
    "- months = pd.date_range(start='2020-01-01', periods=36, freq='M')\n",
    "- sales = pd.Series(np.random.randint(1000, 5000, size=36), index=months)"
   ]
  },
  {
   "cell_type": "code",
   "execution_count": 17,
   "metadata": {},
   "outputs": [],
   "source": [
    "import pandas as pd\n",
    "import numpy as np\n",
    "\n",
    "months = pd.date_range(start='2020-01-01', periods=36, freq='M')\n",
    "sales = pd.Series(np.random.randint(1000, 5000, size=36), index=months)"
   ]
  },
  {
   "cell_type": "code",
   "execution_count": 18,
   "metadata": {},
   "outputs": [
    {
     "data": {
      "text/plain": [
       "2020-01-31    4851\n",
       "2020-02-29    1550\n",
       "2020-03-31    1959\n",
       "2020-04-30    2208\n",
       "2020-05-31    1489\n",
       "Freq: M, dtype: int64"
      ]
     },
     "execution_count": 18,
     "metadata": {},
     "output_type": "execute_result"
    }
   ],
   "source": [
    "sales.head()"
   ]
  },
  {
   "cell_type": "code",
   "execution_count": 20,
   "metadata": {},
   "outputs": [
    {
     "data": {
      "text/plain": [
       "DatetimeIndex(['2020-01-31', '2020-02-29', '2020-03-31', '2020-04-30',\n",
       "               '2020-05-31', '2020-06-30', '2020-07-31', '2020-08-31',\n",
       "               '2020-09-30', '2020-10-31', '2020-11-30', '2020-12-31',\n",
       "               '2021-01-31', '2021-02-28', '2021-03-31', '2021-04-30',\n",
       "               '2021-05-31', '2021-06-30', '2021-07-31', '2021-08-31',\n",
       "               '2021-09-30', '2021-10-31', '2021-11-30', '2021-12-31',\n",
       "               '2022-01-31', '2022-02-28', '2022-03-31', '2022-04-30',\n",
       "               '2022-05-31', '2022-06-30', '2022-07-31', '2022-08-31',\n",
       "               '2022-09-30', '2022-10-31', '2022-11-30', '2022-12-31'],\n",
       "              dtype='datetime64[ns]', freq='M')"
      ]
     },
     "execution_count": 20,
     "metadata": {},
     "output_type": "execute_result"
    }
   ],
   "source": [
    "months"
   ]
  },
  {
   "cell_type": "code",
   "execution_count": 23,
   "metadata": {},
   "outputs": [
    {
     "data": {
      "text/plain": [
       "2020-01-31   NaN\n",
       "2020-02-29   NaN\n",
       "2020-03-31   NaN\n",
       "2020-04-30   NaN\n",
       "2020-05-31   NaN\n",
       "Freq: M, dtype: float64"
      ]
     },
     "execution_count": 23,
     "metadata": {},
     "output_type": "execute_result"
    }
   ],
   "source": [
    "# Analyze sales trend\n",
    "sales_trend = sales.rolling(window=12).mean()\n",
    "sales_trend.head()"
   ]
  },
  {
   "cell_type": "code",
   "execution_count": 24,
   "metadata": {},
   "outputs": [
    {
     "data": {
      "text/plain": [
       "1    3543.333333\n",
       "2    2534.333333\n",
       "3    3784.333333\n",
       "4    2801.666667\n",
       "5    2532.333333\n",
       "dtype: float64"
      ]
     },
     "execution_count": 24,
     "metadata": {},
     "output_type": "execute_result"
    }
   ],
   "source": [
    "# Identify seasonal patterns\n",
    "seasonal_pattern = sales.groupby(sales.index.month).mean()\n",
    "seasonal_pattern.head()"
   ]
  },
  {
   "cell_type": "code",
   "execution_count": 25,
   "metadata": {},
   "outputs": [
    {
     "data": {
      "text/plain": [
       "2020-01-31   NaN\n",
       "2020-02-29   NaN\n",
       "2020-03-31   NaN\n",
       "2020-04-30   NaN\n",
       "2020-05-31   NaN\n",
       "Freq: M, dtype: float64"
      ]
     },
     "execution_count": 25,
     "metadata": {},
     "output_type": "execute_result"
    }
   ],
   "source": [
    "# Calculate year-over-year growth rate\n",
    "yoy_growth = sales.pct_change(periods=12)\n",
    "yoy_growth.head()"
   ]
  },
  {
   "cell_type": "markdown",
   "metadata": {},
   "source": [
    "### 3. Customer Review Sentiment Analysis:\n",
    "\n",
    "**Problem Statement**: You have a Series of customer reviews for a product, where each element is a text review. Your task is to preprocess the text data, calculate the length of each review, and determine the overall sentiment (positive, negative, neutral) of the reviews using a simple heuristic (e.g., based on the presence of specific keywords).\n",
    "\n",
    "\n",
    "#### Sample data creation\n",
    "\n",
    "reviews = pd.Series([\n",
    "\n",
    "    \"Great product! Highly recommend.\",\n",
    "    \"Terrible quality, very disappointed.\",\n",
    "    \"Okay, but could be better.\",\n",
    "    \"Excellent value for money.\",\n",
    "    \"Not worth the price.\"\n",
    "    \n",
    "])\n"
   ]
  },
  {
   "cell_type": "code",
   "execution_count": 26,
   "metadata": {},
   "outputs": [],
   "source": [
    "import pandas as pd\n",
    "\n",
    "# Sample data creation\n",
    "reviews = pd.Series([\n",
    "    \"Great product! Highly recommend.\",\n",
    "    \"Terrible quality, very disappointed.\",\n",
    "    \"Okay, but could be better.\",\n",
    "    \"Excellent value for money.\",\n",
    "    \"Not worth the price.\"\n",
    "])\n",
    "\n",
    "# Calculate length of each review\n",
    "review_lengths = reviews.apply(len)\n",
    "\n",
    "# Simple sentiment analysis\n",
    "def sentiment(review):\n",
    "    if \"great\" in review.lower() or \"excellent\" in review.lower():\n",
    "        return \"Positive\"\n",
    "    elif \"terrible\" in review.lower() or \"disappointed\" in review.lower():\n",
    "        return \"Negative\"\n",
    "    else:\n",
    "        return \"Neutral\"\n",
    "\n",
    "sentiments = reviews.apply(sentiment)"
   ]
  },
  {
   "cell_type": "code",
   "execution_count": 27,
   "metadata": {},
   "outputs": [
    {
     "name": "stdout",
     "output_type": "stream",
     "text": [
      "review length 0    32\n",
      "1    36\n",
      "2    26\n",
      "3    26\n",
      "4    20\n",
      "dtype: int64 and Sentiments is : 0    Positive\n",
      "1    Negative\n",
      "2     Neutral\n",
      "3    Positive\n",
      "4     Neutral\n",
      "dtype: object\n"
     ]
    }
   ],
   "source": [
    "print(\"review length {}\".format(review_lengths))\n",
    "print(\"and Sentiments is : {}\".format(sentim))"
   ]
  },
  {
   "cell_type": "code",
   "execution_count": null,
   "metadata": {},
   "outputs": [],
   "source": []
  }
 ],
 "metadata": {
  "kernelspec": {
   "display_name": "Python 3",
   "language": "python",
   "name": "python3"
  },
  "language_info": {
   "codemirror_mode": {
    "name": "ipython",
    "version": 3
   },
   "file_extension": ".py",
   "mimetype": "text/x-python",
   "name": "python",
   "nbconvert_exporter": "python",
   "pygments_lexer": "ipython3",
   "version": "3.6.9"
  }
 },
 "nbformat": 4,
 "nbformat_minor": 4
}
