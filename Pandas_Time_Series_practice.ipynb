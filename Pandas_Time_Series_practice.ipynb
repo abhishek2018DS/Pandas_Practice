{
 "cells": [
  {
   "cell_type": "markdown",
   "metadata": {},
   "source": [
    "### 1. **Creating a Time Series DataFrame**:\n",
    "   - **Problem Statement**: Create a DataFrame `df` with a date range from January 1, 2023, to January 10, 2023, with daily frequency and a column 'Value' with random integers between 1 and 100."
   ]
  },
  {
   "cell_type": "code",
   "execution_count": 1,
   "metadata": {},
   "outputs": [
    {
     "name": "stdout",
     "output_type": "stream",
     "text": [
      "            Value\n",
      "Date             \n",
      "2023-01-01     77\n",
      "2023-01-02     64\n",
      "2023-01-03     23\n",
      "2023-01-04     80\n",
      "2023-01-05     66\n",
      "2023-01-06     73\n",
      "2023-01-07     10\n",
      "2023-01-08     27\n",
      "2023-01-09     95\n",
      "2023-01-10     83\n"
     ]
    }
   ],
   "source": [
    "   import pandas as pd\n",
    "   import numpy as np\n",
    "\n",
    "   date_range = pd.date_range(start='2023-01-01', end='2023-01-10', freq='D')\n",
    "   df = pd.DataFrame({\n",
    "       'Date': date_range,\n",
    "       'Value': np.random.randint(1, 100, len(date_range))\n",
    "   })\n",
    "   df.set_index('Date', inplace=True)\n",
    "   print(df)"
   ]
  },
  {
   "cell_type": "markdown",
   "metadata": {},
   "source": [
    "### 2. **Resampling Time Series Data**:\n",
    "   - **Problem Statement**: Given a DataFrame `df` with daily time series data, resample the data to a weekly frequency, calculating the sum of 'Value' for each week."
   ]
  },
  {
   "cell_type": "code",
   "execution_count": 2,
   "metadata": {},
   "outputs": [
    {
     "name": "stdout",
     "output_type": "stream",
     "text": [
      "            Value\n",
      "Date             \n",
      "2023-01-01     77\n",
      "2023-01-08    343\n",
      "2023-01-15    178\n"
     ]
    }
   ],
   "source": [
    "weekly_df = df.resample('W').sum()\n",
    "print(weekly_df)"
   ]
  },
  {
   "cell_type": "markdown",
   "metadata": {},
   "source": [
    "### 3. **Shifting Time Series Data**:\n",
    "   - **Problem Statement**: Given a DataFrame `df` with daily time series data, create a new column 'Previous_Value' which contains the 'Value' column shifted by one day."
   ]
  },
  {
   "cell_type": "code",
   "execution_count": 3,
   "metadata": {},
   "outputs": [
    {
     "name": "stdout",
     "output_type": "stream",
     "text": [
      "            Value  Previous_Value\n",
      "Date                             \n",
      "2023-01-01     77             NaN\n",
      "2023-01-02     64            77.0\n",
      "2023-01-03     23            64.0\n",
      "2023-01-04     80            23.0\n",
      "2023-01-05     66            80.0\n",
      "2023-01-06     73            66.0\n",
      "2023-01-07     10            73.0\n",
      "2023-01-08     27            10.0\n",
      "2023-01-09     95            27.0\n",
      "2023-01-10     83            95.0\n"
     ]
    }
   ],
   "source": [
    "df['Previous_Value'] = df['Value'].shift(1)\n",
    "print(df)"
   ]
  },
  {
   "cell_type": "markdown",
   "metadata": {},
   "source": [
    "### 4. **Rolling Window Calculation**:\n",
    "   - **Problem Statement**: Given a DataFrame `df` with daily time series data, calculate a 3-day rolling mean of the 'Value' column and add it as a new column 'Rolling_Mean'."
   ]
  },
  {
   "cell_type": "code",
   "execution_count": 4,
   "metadata": {},
   "outputs": [
    {
     "name": "stdout",
     "output_type": "stream",
     "text": [
      "            Value  Previous_Value  Rolling_Mean\n",
      "Date                                           \n",
      "2023-01-01     77             NaN           NaN\n",
      "2023-01-02     64            77.0           NaN\n",
      "2023-01-03     23            64.0     54.666667\n",
      "2023-01-04     80            23.0     55.666667\n",
      "2023-01-05     66            80.0     56.333333\n",
      "2023-01-06     73            66.0     73.000000\n",
      "2023-01-07     10            73.0     49.666667\n",
      "2023-01-08     27            10.0     36.666667\n",
      "2023-01-09     95            27.0     44.000000\n",
      "2023-01-10     83            95.0     68.333333\n"
     ]
    }
   ],
   "source": [
    "df['Rolling_Mean'] = df['Value'].rolling(window=3).mean()\n",
    "print(df)"
   ]
  },
  {
   "cell_type": "markdown",
   "metadata": {},
   "source": [
    "### 5. **Time Series Data Filtering**:\n",
    "   - **Problem Statement**: Given a DataFrame `df` with daily time series data, filter the data to include only rows where the date is in January 2023."
   ]
  },
  {
   "cell_type": "code",
   "execution_count": 5,
   "metadata": {},
   "outputs": [
    {
     "name": "stdout",
     "output_type": "stream",
     "text": [
      "            Value  Previous_Value  Rolling_Mean\n",
      "Date                                           \n",
      "2023-01-01     77             NaN           NaN\n",
      "2023-01-02     64            77.0           NaN\n",
      "2023-01-03     23            64.0     54.666667\n",
      "2023-01-04     80            23.0     55.666667\n",
      "2023-01-05     66            80.0     56.333333\n",
      "2023-01-06     73            66.0     73.000000\n",
      "2023-01-07     10            73.0     49.666667\n",
      "2023-01-08     27            10.0     36.666667\n",
      "2023-01-09     95            27.0     44.000000\n",
      "2023-01-10     83            95.0     68.333333\n"
     ]
    }
   ],
   "source": [
    "filtered_df = df['2023-01']\n",
    "print(filtered_df)"
   ]
  },
  {
   "cell_type": "markdown",
   "metadata": {},
   "source": [
    "### 6. **Time Series Data Interpolation**:\n",
    "   - **Problem Statement**: Given a DataFrame `df` with missing 'Value' entries, fill the missing values using linear interpolation."
   ]
  },
  {
   "cell_type": "code",
   "execution_count": 6,
   "metadata": {},
   "outputs": [
    {
     "name": "stdout",
     "output_type": "stream",
     "text": [
      "            Value  Previous_Value  Rolling_Mean\n",
      "Date                                           \n",
      "2023-01-01   77.0             NaN           NaN\n",
      "2023-01-02   64.0            77.0           NaN\n",
      "2023-01-03   23.0            64.0     54.666667\n",
      "2023-01-04   80.0            23.0     55.666667\n",
      "2023-01-05   76.5            80.0     56.333333\n",
      "2023-01-06   73.0            66.0     73.000000\n",
      "2023-01-07   10.0            73.0     49.666667\n",
      "2023-01-08   27.0            10.0     36.666667\n",
      "2023-01-09   95.0            27.0     44.000000\n",
      "2023-01-10   83.0            95.0     68.333333\n"
     ]
    }
   ],
   "source": [
    "df.loc['2023-01-05', 'Value'] = np.nan  # Introduce a missing value for demonstration\n",
    "df['Value'] = df['Value'].interpolate()\n",
    "print(df)"
   ]
  },
  {
   "cell_type": "markdown",
   "metadata": {},
   "source": [
    "### 7. **Decomposing Time Series Data**:\n",
    "   - **Problem Statement**: Given a DataFrame `df` with daily time series data, decompose the time series into trend, seasonal, and residual components."
   ]
  },
  {
   "cell_type": "code",
   "execution_count": 8,
   "metadata": {},
   "outputs": [
    {
     "name": "stdout",
     "output_type": "stream",
     "text": [
      "            Value  Previous_Value  Rolling_Mean      Trend  Seasonal  \\\n",
      "Date                                                                   \n",
      "2023-01-01   77.0             NaN           NaN        NaN -2.851852   \n",
      "2023-01-02   64.0            77.0           NaN  54.666667 -2.157407   \n",
      "2023-01-03   23.0            64.0     54.666667  55.666667  5.009259   \n",
      "2023-01-04   80.0            23.0     55.666667  59.833333 -2.851852   \n",
      "2023-01-05   76.5            80.0     56.333333  76.500000 -2.157407   \n",
      "2023-01-06   73.0            66.0     73.000000  53.166667  5.009259   \n",
      "2023-01-07   10.0            73.0     49.666667  36.666667 -2.851852   \n",
      "2023-01-08   27.0            10.0     36.666667  44.000000 -2.157407   \n",
      "2023-01-09   95.0            27.0     44.000000  68.333333  5.009259   \n",
      "2023-01-10   83.0            95.0     68.333333        NaN -2.851852   \n",
      "\n",
      "             Residual  \n",
      "Date                   \n",
      "2023-01-01        NaN  \n",
      "2023-01-02  11.490741  \n",
      "2023-01-03 -37.675926  \n",
      "2023-01-04  23.018519  \n",
      "2023-01-05   2.157407  \n",
      "2023-01-06  14.824074  \n",
      "2023-01-07 -23.814815  \n",
      "2023-01-08 -14.842593  \n",
      "2023-01-09  21.657407  \n",
      "2023-01-10        NaN  \n"
     ]
    }
   ],
   "source": [
    "from statsmodels.tsa.seasonal import seasonal_decompose\n",
    "\n",
    "result = seasonal_decompose(df['Value'], model='additive', period=3)\n",
    "df['Trend'] = result.trend\n",
    "df['Seasonal'] = result.seasonal\n",
    "df['Residual'] = result.resid\n",
    "print(df)"
   ]
  },
  {
   "cell_type": "markdown",
   "metadata": {},
   "source": [
    "### 8. **Calculating Time Differences**:\n",
    "   - **Problem Statement**: Given a DataFrame `df` with a column 'Event_Date', calculate the number of days between each 'Event_Date' and a fixed date (e.g., January 1, 2023)."
   ]
  },
  {
   "cell_type": "code",
   "execution_count": 9,
   "metadata": {},
   "outputs": [
    {
     "name": "stdout",
     "output_type": "stream",
     "text": [
      "            Value  Previous_Value  Rolling_Mean      Trend  Seasonal  \\\n",
      "Date                                                                   \n",
      "2023-01-01   77.0             NaN           NaN        NaN -2.851852   \n",
      "2023-01-02   64.0            77.0           NaN  54.666667 -2.157407   \n",
      "2023-01-03   23.0            64.0     54.666667  55.666667  5.009259   \n",
      "2023-01-04   80.0            23.0     55.666667  59.833333 -2.851852   \n",
      "2023-01-05   76.5            80.0     56.333333  76.500000 -2.157407   \n",
      "2023-01-06   73.0            66.0     73.000000  53.166667  5.009259   \n",
      "2023-01-07   10.0            73.0     49.666667  36.666667 -2.851852   \n",
      "2023-01-08   27.0            10.0     36.666667  44.000000 -2.157407   \n",
      "2023-01-09   95.0            27.0     44.000000  68.333333  5.009259   \n",
      "2023-01-10   83.0            95.0     68.333333        NaN -2.851852   \n",
      "\n",
      "             Residual Event_Date  Days_From_Start  \n",
      "Date                                               \n",
      "2023-01-01        NaN 2023-01-01                0  \n",
      "2023-01-02  11.490741 2023-01-02                1  \n",
      "2023-01-03 -37.675926 2023-01-03                2  \n",
      "2023-01-04  23.018519 2023-01-04                3  \n",
      "2023-01-05   2.157407 2023-01-05                4  \n",
      "2023-01-06  14.824074 2023-01-06                5  \n",
      "2023-01-07 -23.814815 2023-01-07                6  \n",
      "2023-01-08 -14.842593 2023-01-08                7  \n",
      "2023-01-09  21.657407 2023-01-09                8  \n",
      "2023-01-10        NaN 2023-01-10                9  \n"
     ]
    }
   ],
   "source": [
    "df['Event_Date'] = pd.to_datetime(df.index)\n",
    "df['Days_From_Start'] = (df['Event_Date'] - pd.Timestamp('2023-01-01')).dt.days\n",
    "print(df)"
   ]
  },
  {
   "cell_type": "markdown",
   "metadata": {},
   "source": [
    "### 9. **Handling Time Zones**:\n",
    "   - **Problem Statement**: Given a DataFrame `df` with a 'Date' column in UTC, convert the 'Date' column to Eastern Time (ET)."
   ]
  },
  {
   "cell_type": "code",
   "execution_count": 10,
   "metadata": {},
   "outputs": [
    {
     "name": "stdout",
     "output_type": "stream",
     "text": [
      "                           Value  Previous_Value  Rolling_Mean      Trend  \\\n",
      "Date                                                                        \n",
      "2022-12-31 19:00:00-05:00   77.0             NaN           NaN        NaN   \n",
      "2023-01-01 19:00:00-05:00   64.0            77.0           NaN  54.666667   \n",
      "2023-01-02 19:00:00-05:00   23.0            64.0     54.666667  55.666667   \n",
      "2023-01-03 19:00:00-05:00   80.0            23.0     55.666667  59.833333   \n",
      "2023-01-04 19:00:00-05:00   76.5            80.0     56.333333  76.500000   \n",
      "2023-01-05 19:00:00-05:00   73.0            66.0     73.000000  53.166667   \n",
      "2023-01-06 19:00:00-05:00   10.0            73.0     49.666667  36.666667   \n",
      "2023-01-07 19:00:00-05:00   27.0            10.0     36.666667  44.000000   \n",
      "2023-01-08 19:00:00-05:00   95.0            27.0     44.000000  68.333333   \n",
      "2023-01-09 19:00:00-05:00   83.0            95.0     68.333333        NaN   \n",
      "\n",
      "                           Seasonal   Residual Event_Date  Days_From_Start  \n",
      "Date                                                                        \n",
      "2022-12-31 19:00:00-05:00 -2.851852        NaN 2023-01-01                0  \n",
      "2023-01-01 19:00:00-05:00 -2.157407  11.490741 2023-01-02                1  \n",
      "2023-01-02 19:00:00-05:00  5.009259 -37.675926 2023-01-03                2  \n",
      "2023-01-03 19:00:00-05:00 -2.851852  23.018519 2023-01-04                3  \n",
      "2023-01-04 19:00:00-05:00 -2.157407   2.157407 2023-01-05                4  \n",
      "2023-01-05 19:00:00-05:00  5.009259  14.824074 2023-01-06                5  \n",
      "2023-01-06 19:00:00-05:00 -2.851852 -23.814815 2023-01-07                6  \n",
      "2023-01-07 19:00:00-05:00 -2.157407 -14.842593 2023-01-08                7  \n",
      "2023-01-08 19:00:00-05:00  5.009259  21.657407 2023-01-09                8  \n",
      "2023-01-09 19:00:00-05:00 -2.851852        NaN 2023-01-10                9  \n"
     ]
    }
   ],
   "source": [
    "df = df.tz_localize('UTC').tz_convert('US/Eastern')\n",
    "print(df)"
   ]
  },
  {
   "cell_type": "markdown",
   "metadata": {},
   "source": [
    "### 10. **Aggregating Time Series Data by Month**:\n",
    "   **Problem Statement**: Given a DataFrame `df` with daily time series data, aggregate the data by month, calculating the mean 'Value' for each month."
   ]
  },
  {
   "cell_type": "code",
   "execution_count": 11,
   "metadata": {},
   "outputs": [
    {
     "name": "stdout",
     "output_type": "stream",
     "text": [
      "                               Value  Previous_Value  Rolling_Mean      Trend  \\\n",
      "Date                                                                            \n",
      "2022-12-31 00:00:00-05:00  77.000000             NaN           NaN        NaN   \n",
      "2023-01-31 00:00:00-05:00  59.055556       57.222222     54.791667  56.104167   \n",
      "\n",
      "                               Seasonal  Residual  Days_From_Start  \n",
      "Date                                                                \n",
      "2022-12-31 00:00:00-05:00 -2.851852e+00       NaN                0  \n",
      "2023-01-31 00:00:00-05:00  1.480297e-16 -0.398148                5  \n"
     ]
    }
   ],
   "source": [
    "monthly_df = df.resample('M').mean()\n",
    "print(monthly_df)"
   ]
  },
  {
   "cell_type": "code",
   "execution_count": null,
   "metadata": {},
   "outputs": [],
   "source": []
  }
 ],
 "metadata": {
  "kernelspec": {
   "display_name": "Python 3",
   "language": "python",
   "name": "python3"
  },
  "language_info": {
   "codemirror_mode": {
    "name": "ipython",
    "version": 3
   },
   "file_extension": ".py",
   "mimetype": "text/x-python",
   "name": "python",
   "nbconvert_exporter": "python",
   "pygments_lexer": "ipython3",
   "version": "3.6.9"
  }
 },
 "nbformat": 4,
 "nbformat_minor": 4
}
