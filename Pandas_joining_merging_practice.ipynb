{
 "cells": [
  {
   "cell_type": "markdown",
   "metadata": {},
   "source": [
    "### 1. **Inner Join**:\n",
    "   - **Problem Statement**: Given two DataFrames `df1` and `df2`, perform an inner join on the common column 'ID'."
   ]
  },
  {
   "cell_type": "code",
   "execution_count": 1,
   "metadata": {},
   "outputs": [
    {
     "name": "stdout",
     "output_type": "stream",
     "text": [
      "   ID     Name  Score\n",
      "0   2      Bob     85\n",
      "1   3  Charlie     90\n"
     ]
    }
   ],
   "source": [
    "import pandas as pd\n",
    "\n",
    "df1 = pd.DataFrame({\n",
    "   'ID': [1, 2, 3],\n",
    "   'Name': ['Alice', 'Bob', 'Charlie']\n",
    "})\n",
    "\n",
    "df2 = pd.DataFrame({\n",
    "   'ID': [2, 3, 4],\n",
    "   'Score': [85, 90, 95]\n",
    "})\n",
    "\n",
    "result = pd.merge(df1, df2, on='ID', how='inner')\n",
    "print(result)"
   ]
  },
  {
   "cell_type": "markdown",
   "metadata": {},
   "source": [
    "### 2. **Left Join**:\n",
    "   - **Problem Statement**: Given two DataFrames `df1` and `df2`, perform a left join on the common column 'ID'."
   ]
  },
  {
   "cell_type": "code",
   "execution_count": 2,
   "metadata": {},
   "outputs": [
    {
     "name": "stdout",
     "output_type": "stream",
     "text": [
      "   ID     Name  Score\n",
      "0   1    Alice    NaN\n",
      "1   2      Bob   85.0\n",
      "2   3  Charlie   90.0\n"
     ]
    }
   ],
   "source": [
    "df1 = pd.DataFrame({\n",
    "   'ID': [1, 2, 3],\n",
    "   'Name': ['Alice', 'Bob', 'Charlie']\n",
    "})\n",
    "\n",
    "df2 = pd.DataFrame({\n",
    "   'ID': [2, 3, 4],\n",
    "   'Score': [85, 90, 95]\n",
    "})\n",
    "\n",
    "result = pd.merge(df1, df2, on='ID', how='left')\n",
    "print(result)"
   ]
  },
  {
   "cell_type": "markdown",
   "metadata": {},
   "source": [
    "###  3. **Right Join**:\n",
    "   - **Problem Statement**: Given two DataFrames `df1` and `df2`, perform a right join on the common column 'ID'."
   ]
  },
  {
   "cell_type": "code",
   "execution_count": 3,
   "metadata": {},
   "outputs": [
    {
     "name": "stdout",
     "output_type": "stream",
     "text": [
      "   ID     Name  Score\n",
      "0   2      Bob     85\n",
      "1   3  Charlie     90\n",
      "2   4      NaN     95\n"
     ]
    }
   ],
   "source": [
    "df1 = pd.DataFrame({\n",
    "   'ID': [1, 2, 3],\n",
    "   'Name': ['Alice', 'Bob', 'Charlie']\n",
    "})\n",
    "\n",
    "df2 = pd.DataFrame({\n",
    "   'ID': [2, 3, 4],\n",
    "   'Score': [85, 90, 95]\n",
    "})\n",
    "\n",
    "result = pd.merge(df1, df2, on='ID', how='right')\n",
    "print(result)"
   ]
  },
  {
   "cell_type": "markdown",
   "metadata": {},
   "source": [
    "### 4. **Outer Join**:\n",
    "   - **Problem Statement**: Given two DataFrames `df1` and `df2`, perform an outer join on the common column 'ID'."
   ]
  },
  {
   "cell_type": "code",
   "execution_count": 4,
   "metadata": {},
   "outputs": [
    {
     "name": "stdout",
     "output_type": "stream",
     "text": [
      "   ID     Name  Score\n",
      "0   1    Alice    NaN\n",
      "1   2      Bob   85.0\n",
      "2   3  Charlie   90.0\n",
      "3   4      NaN   95.0\n"
     ]
    }
   ],
   "source": [
    "df1 = pd.DataFrame({\n",
    "   'ID': [1, 2, 3],\n",
    "   'Name': ['Alice', 'Bob', 'Charlie']\n",
    "})\n",
    "\n",
    "df2 = pd.DataFrame({\n",
    "   'ID': [2, 3, 4],\n",
    "   'Score': [85, 90, 95]\n",
    "})\n",
    "\n",
    "result = pd.merge(df1, df2, on='ID', how='outer')\n",
    "print(result)"
   ]
  },
  {
   "cell_type": "markdown",
   "metadata": {},
   "source": [
    "### 5. **Joining on Multiple Columns**:\n",
    "   - **Problem Statement**: Given two DataFrames `df1` and `df2`, perform an inner join on the columns 'ID' and 'Subject'."
   ]
  },
  {
   "cell_type": "code",
   "execution_count": 5,
   "metadata": {},
   "outputs": [
    {
     "name": "stdout",
     "output_type": "stream",
     "text": [
      "   ID Subject   Name  Score\n",
      "0   1    Math  Alice     90\n"
     ]
    }
   ],
   "source": [
    "df1 = pd.DataFrame({\n",
    "   'ID': [1, 2, 3],\n",
    "   'Subject': ['Math', 'English', 'Science'],\n",
    "   'Name': ['Alice', 'Bob', 'Charlie']\n",
    "})\n",
    "\n",
    "df2 = pd.DataFrame({\n",
    "   'ID': [1, 2, 3],\n",
    "   'Subject': ['Math', 'Science', 'English'],\n",
    "   'Score': [90, 85, 95]\n",
    "})\n",
    "\n",
    "result = pd.merge(df1, df2, on=['ID', 'Subject'], how='inner')\n",
    "print(result)"
   ]
  },
  {
   "cell_type": "markdown",
   "metadata": {},
   "source": [
    "### 6. **Joining with Different Column Names**:\n",
    "   - **Problem Statement**: Given two DataFrames `df1` and `df2`, join them on columns 'ID' from `df1` and 'Student_ID' from `df2`."
   ]
  },
  {
   "cell_type": "code",
   "execution_count": 6,
   "metadata": {},
   "outputs": [
    {
     "name": "stdout",
     "output_type": "stream",
     "text": [
      "   ID     Name  Student_ID  Score\n",
      "0   2      Bob           2     85\n",
      "1   3  Charlie           3     90\n"
     ]
    }
   ],
   "source": [
    "df1 = pd.DataFrame({\n",
    "   'ID': [1, 2, 3],\n",
    "   'Name': ['Alice', 'Bob', 'Charlie']\n",
    "})\n",
    "\n",
    "df2 = pd.DataFrame({\n",
    "   'Student_ID': [2, 3, 4],\n",
    "   'Score': [85, 90, 95]\n",
    "})\n",
    "\n",
    "result = pd.merge(df1, df2, left_on='ID', right_on='Student_ID', how='inner')\n",
    "print(result)"
   ]
  },
  {
   "cell_type": "markdown",
   "metadata": {},
   "source": [
    "### 7. **Concatenation of DataFrames**:\n",
    "   - **Problem Statement**: Given two DataFrames `df1` and `df2` with the same columns, concatenate them vertically."
   ]
  },
  {
   "cell_type": "code",
   "execution_count": 7,
   "metadata": {},
   "outputs": [
    {
     "name": "stdout",
     "output_type": "stream",
     "text": [
      "   ID     Name\n",
      "0   1    Alice\n",
      "1   2      Bob\n",
      "2   3  Charlie\n",
      "3   4    David\n",
      "4   5   Edward\n",
      "5   6    Fiona\n"
     ]
    }
   ],
   "source": [
    "df1 = pd.DataFrame({\n",
    "   'ID': [1, 2, 3],\n",
    "   'Name': ['Alice', 'Bob', 'Charlie']\n",
    "})\n",
    "\n",
    "df2 = pd.DataFrame({\n",
    "   'ID': [4, 5, 6],\n",
    "   'Name': ['David', 'Edward', 'Fiona']\n",
    "})\n",
    "\n",
    "result = pd.concat([df1, df2], ignore_index=True)\n",
    "print(result)"
   ]
  },
  {
   "cell_type": "markdown",
   "metadata": {},
   "source": [
    "\n",
    "   ```python\n",
    "  \n",
    "   ```\n",
    "\n",
    "8. **Joining DataFrames with Different Index**:\n",
    "   - **Problem Statement**: Given two DataFrames `df1` and `df2`, join them on their indices.\n",
    "   ```python\n",
    "   df1 = pd.DataFrame({\n",
    "       'Name': ['Alice', 'Bob', 'Charlie']\n",
    "   }, index=[1, 2, 3])\n",
    "\n",
    "   df2 = pd.DataFrame({\n",
    "       'Score': [85, 90, 95]\n",
    "   }, index=[2, 3, 4])\n",
    "\n",
    "   result = df1.join(df2, how='inner')\n",
    "   print(result)\n",
    "   ```\n",
    "\n",
    "These problems cover a range of joining and merging operations using Pandas, such as inner joins, left joins, right joins, outer joins, joining on multiple columns, joining with different column names, concatenation, and joining on indices. Practicing these problems will help you become proficient in combining data from multiple DataFrames, which is a crucial skill for data analysis and manipulation tasks."
   ]
  }
 ],
 "metadata": {
  "kernelspec": {
   "display_name": "Python 3",
   "language": "python",
   "name": "python3"
  },
  "language_info": {
   "codemirror_mode": {
    "name": "ipython",
    "version": 3
   },
   "file_extension": ".py",
   "mimetype": "text/x-python",
   "name": "python",
   "nbconvert_exporter": "python",
   "pygments_lexer": "ipython3",
   "version": "3.6.9"
  }
 },
 "nbformat": 4,
 "nbformat_minor": 4
}
