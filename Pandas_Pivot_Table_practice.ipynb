{
 "cells": [
  {
   "cell_type": "markdown",
   "metadata": {},
   "source": [
    "### 1. **Basic Pivot Table**:\n",
    "   - **Problem Statement**: Given a DataFrame `df` with columns 'Department', 'Employee', and 'Salary', create a pivot table to calculate the average salary for each department."
   ]
  },
  {
   "cell_type": "code",
   "execution_count": 1,
   "metadata": {},
   "outputs": [
    {
     "name": "stdout",
     "output_type": "stream",
     "text": [
      "             Salary\n",
      "Department         \n",
      "Engineering   85000\n",
      "HR            52500\n",
      "Sales         60000\n"
     ]
    }
   ],
   "source": [
    "import pandas as pd\n",
    "\n",
    "df = pd.DataFrame({\n",
    "   'Department': ['HR', 'HR', 'Engineering', 'Engineering', 'Sales'],\n",
    "   'Employee': ['Alice', 'Bob', 'Charlie', 'David', 'Eve'],\n",
    "   'Salary': [50000, 55000, 80000, 90000, 60000]\n",
    "})\n",
    "\n",
    "pivot_table = df.pivot_table(values='Salary', index='Department', aggfunc='mean')\n",
    "print(pivot_table)"
   ]
  },
  {
   "cell_type": "markdown",
   "metadata": {},
   "source": [
    "### 2. **Pivot Table with Multiple Aggregation Functions**:\n",
    "   - **Problem Statement**: Given a DataFrame `df` with columns 'Department', 'Employee', and 'Salary', create a pivot table to calculate both the average and total salary for each department."
   ]
  },
  {
   "cell_type": "code",
   "execution_count": 2,
   "metadata": {},
   "outputs": [
    {
     "name": "stdout",
     "output_type": "stream",
     "text": [
      "              mean     sum\n",
      "            Salary  Salary\n",
      "Department                \n",
      "Engineering  85000  170000\n",
      "HR           52500  105000\n",
      "Sales        60000   60000\n"
     ]
    }
   ],
   "source": [
    "pivot_table = df.pivot_table(values='Salary', index='Department', aggfunc=['mean', 'sum'])\n",
    "print(pivot_table)"
   ]
  },
  {
   "cell_type": "markdown",
   "metadata": {},
   "source": [
    "### 3. **Pivot Table with Multiple Indexes**:\n",
    "   - **Problem Statement**: Given a DataFrame `df` with columns 'Department', 'Gender', 'Employee', and 'Salary', create a pivot table to calculate the average salary for each department and gender combination."
   ]
  },
  {
   "cell_type": "code",
   "execution_count": 3,
   "metadata": {},
   "outputs": [
    {
     "name": "stdout",
     "output_type": "stream",
     "text": [
      "                    Salary\n",
      "Department  Gender        \n",
      "Engineering F        80000\n",
      "            M        90000\n",
      "HR          F        50000\n",
      "            M        55000\n",
      "Sales       F        60000\n"
     ]
    }
   ],
   "source": [
    "df = pd.DataFrame({\n",
    "   'Department': ['HR', 'HR', 'Engineering', 'Engineering', 'Sales'],\n",
    "   'Gender': ['F', 'M', 'F', 'M', 'F'],\n",
    "   'Employee': ['Alice', 'Bob', 'Charlie', 'David', 'Eve'],\n",
    "   'Salary': [50000, 55000, 80000, 90000, 60000]\n",
    "})\n",
    "\n",
    "pivot_table = df.pivot_table(values='Salary', index=['Department', 'Gender'], aggfunc='mean')\n",
    "print(pivot_table)"
   ]
  },
  {
   "cell_type": "markdown",
   "metadata": {},
   "source": [
    "### \n",
    "4. **Pivot Table with Columns Parameter**:\n",
    "  **Problem Statement**: Given a DataFrame `df` with columns 'Department', 'Gender', 'Employee', and 'Salary', create a pivot table to calculate the average salary for each gender within each department."
   ]
  },
  {
   "cell_type": "code",
   "execution_count": 4,
   "metadata": {},
   "outputs": [
    {
     "name": "stdout",
     "output_type": "stream",
     "text": [
      "Gender             F        M\n",
      "Department                   \n",
      "Engineering  80000.0  90000.0\n",
      "HR           50000.0  55000.0\n",
      "Sales        60000.0      NaN\n"
     ]
    }
   ],
   "source": [
    "pivot_table = df.pivot_table(values='Salary', index='Department', columns='Gender', aggfunc='mean')\n",
    "print(pivot_table)"
   ]
  },
  {
   "cell_type": "markdown",
   "metadata": {},
   "source": [
    "### 5. **Pivot Table with Margins**:\n",
    "   - **Problem Statement**: Given a DataFrame `df` with columns 'Department', 'Gender', 'Employee', and 'Salary', create a pivot table to calculate the average salary for each department and gender combination, including the overall average."
   ]
  },
  {
   "cell_type": "code",
   "execution_count": 5,
   "metadata": {},
   "outputs": [
    {
     "name": "stdout",
     "output_type": "stream",
     "text": [
      "                    Salary\n",
      "Department  Gender        \n",
      "Engineering F        80000\n",
      "            M        90000\n",
      "HR          F        50000\n",
      "            M        55000\n",
      "Sales       F        60000\n",
      "All                  67000\n"
     ]
    }
   ],
   "source": [
    "pivot_table = df.pivot_table(values='Salary', index=['Department', 'Gender'], aggfunc='mean', margins=True)\n",
    "print(pivot_table)"
   ]
  },
  {
   "cell_type": "markdown",
   "metadata": {},
   "source": [
    "### 6. **Pivot Table with Fill Value**:\n",
    "   - **Problem Statement**: Given a DataFrame `df` with columns 'Department', 'Gender', 'Employee', and 'Salary', create a pivot table to calculate the average salary for each department and gender combination, filling missing values with 0."
   ]
  },
  {
   "cell_type": "code",
   "execution_count": 6,
   "metadata": {},
   "outputs": [
    {
     "name": "stdout",
     "output_type": "stream",
     "text": [
      "Gender           F      M\n",
      "Department               \n",
      "Engineering  80000  90000\n",
      "HR           50000  55000\n",
      "Sales        60000      0\n"
     ]
    }
   ],
   "source": [
    "pivot_table = df.pivot_table(values='Salary', index='Department', columns='Gender', aggfunc='mean', fill_value=0)\n",
    "print(pivot_table)"
   ]
  },
  {
   "cell_type": "markdown",
   "metadata": {},
   "source": [
    "### 7. **Pivot Table with Multiple Values**:\n",
    "   - **Problem Statement**: Given a DataFrame `df` with columns 'Department', 'Gender', 'Employee', 'Age', and 'Salary', create a pivot table to calculate both the average age and total salary for each department and gender combination."
   ]
  },
  {
   "cell_type": "code",
   "execution_count": 7,
   "metadata": {},
   "outputs": [
    {
     "name": "stdout",
     "output_type": "stream",
     "text": [
      "                    Age  Salary\n",
      "Department  Gender             \n",
      "Engineering F        35   80000\n",
      "            M        40   90000\n",
      "HR          F        25   50000\n",
      "            M        30   55000\n",
      "Sales       F        28   60000\n"
     ]
    }
   ],
   "source": [
    "df = pd.DataFrame({\n",
    "   'Department': ['HR', 'HR', 'Engineering', 'Engineering', 'Sales'],\n",
    "   'Gender': ['F', 'M', 'F', 'M', 'F'],\n",
    "   'Employee': ['Alice', 'Bob', 'Charlie', 'David', 'Eve'],\n",
    "   'Age': [25, 30, 35, 40, 28],\n",
    "   'Salary': [50000, 55000, 80000, 90000, 60000]\n",
    "})\n",
    "\n",
    "pivot_table = df.pivot_table(values=['Age', 'Salary'], index=['Department', 'Gender'], aggfunc={'Age': 'mean', 'Salary': 'sum'})\n",
    "print(pivot_table)"
   ]
  },
  {
   "cell_type": "markdown",
   "metadata": {},
   "source": [
    "### 8. **Pivot Table with Time Series Data**:\n",
    "   - **Problem Statement**: Given a DataFrame `df` with columns 'Date', 'Sales', and 'Region', create a pivot table to calculate the total sales for each month in each region."
   ]
  },
  {
   "cell_type": "code",
   "execution_count": 18,
   "metadata": {},
   "outputs": [
    {
     "name": "stdout",
     "output_type": "stream",
     "text": [
      "Region   East  North  South  West\n",
      "Month                            \n",
      "2022-01   128    112    120   105\n",
      "2022-02   322    308    315   301\n",
      "2022-03   518    592    600   584\n",
      "2022-04   832    728    735   840\n",
      "2022-05  1088   1072   1080   945\n",
      "2022-06  1162   1328   1155  1320\n",
      "2022-07  1568   1372   1560  1576\n",
      "2022-08  1824   1808   1816  1589\n",
      "2022-09  1806   2064   1799  2056\n",
      "2022-10  2304   2016   2296  2312\n",
      "2022-11  2226   2544   2552  2233\n",
      "2022-12  2784   2800   2443  2792\n"
     ]
    }
   ],
   "source": [
    "import pandas as pd\n",
    "\n",
    "df = pd.DataFrame({\n",
    "    'Date': pd.date_range(start='2022-01-01', periods=365, freq='D'),\n",
    "    'Sales': range(365),\n",
    "    'Region': (['North', 'South', 'East', 'West'] * (365 // 4 + 1))[:365]  # Ensure length is exactly 365\n",
    "})\n",
    "\n",
    "df['Month'] = df['Date'].dt.to_period('M')\n",
    "pivot_table = df.pivot_table(values='Sales', index='Month', columns='Region', aggfunc='sum')\n",
    "print(pivot_table)\n"
   ]
  },
  {
   "cell_type": "markdown",
   "metadata": {},
   "source": [
    "### 9. **Pivot Table with Custom Aggregation Functions**:\n",
    "   - **Problem Statement**: Given a DataFrame `df` with columns 'Department', 'Employee', and 'Salary', create a pivot table to calculate the range of salaries (max - min) for each department."
   ]
  },
  {
   "cell_type": "code",
   "execution_count": 11,
   "metadata": {},
   "outputs": [
    {
     "name": "stdout",
     "output_type": "stream",
     "text": [
      "             Salary\n",
      "Department         \n",
      "Engineering   10000\n",
      "HR             5000\n",
      "Sales             0\n"
     ]
    }
   ],
   "source": [
    "def salary_range(x):\n",
    "   return x.max() - x.min()\n",
    "\n",
    "pivot_table = df.pivot_table(values='Salary', index='Department', aggfunc=salary_range)\n",
    "print(pivot_table)"
   ]
  },
  {
   "cell_type": "markdown",
   "metadata": {},
   "source": [
    "### 10. **Pivot Table with Aggregation and Filtering**:\n",
    "    - **Problem Statement**: Given a DataFrame `df` with columns 'Department', 'Employee', 'Age', and 'Salary', create a pivot table to calculate the average salary for each department and filter the results to include only departments with an average salary greater than 60000."
   ]
  },
  {
   "cell_type": "code",
   "execution_count": 12,
   "metadata": {},
   "outputs": [
    {
     "name": "stdout",
     "output_type": "stream",
     "text": [
      "             Salary\n",
      "Department         \n",
      "Engineering   85000\n"
     ]
    }
   ],
   "source": [
    "pivot_table = df.pivot_table(values='Salary', index='Department', aggfunc='mean')\n",
    "result = pivot_table[pivot_table['Salary'] > 60000]\n",
    "print(result)"
   ]
  },
  {
   "cell_type": "markdown",
   "metadata": {},
   "source": [
    "### 11. **Pivot Table with Multi-Level Index and Columns**:\n",
    "    - **Problem Statement**: Given a DataFrame `df` with columns 'Region', 'Department', 'Gender', and 'Sales', create a pivot table to calculate the total sales for each region and department, broken down by gender."
   ]
  },
  {
   "cell_type": "code",
   "execution_count": 13,
   "metadata": {},
   "outputs": [
    {
     "name": "stdout",
     "output_type": "stream",
     "text": [
      "Gender                  F      M\n",
      "Region Department               \n",
      "East   Engineering    NaN  220.0\n",
      "       HR           120.0    NaN\n",
      "North  Engineering    NaN  200.0\n",
      "       HR           100.0    NaN\n",
      "South  Engineering    NaN  250.0\n",
      "       HR           150.0    NaN\n",
      "West   Engineering    NaN  230.0\n",
      "       HR           130.0    NaN\n"
     ]
    }
   ],
   "source": [
    "df = pd.DataFrame({\n",
    "    'Region': ['North', 'North', 'South', 'South', 'East', 'East', 'West', 'West'],\n",
    "    'Department': ['HR', 'Engineering', 'HR', 'Engineering', 'HR', 'Engineering', 'HR', 'Engineering'],\n",
    "    'Gender': ['F', 'M', 'F', 'M', 'F', 'M', 'F', 'M'],\n",
    "    'Sales': [100, 200, 150, 250, 120, 220, 130, 230]\n",
    "})\n",
    "\n",
    "pivot_table = df.pivot_table(values='Sales', index=['Region', 'Department'], columns='Gender', aggfunc='sum')\n",
    "print(pivot_table)"
   ]
  },
  {
   "cell_type": "markdown",
   "metadata": {},
   "source": [
    "### 12. **Pivot Table with Custom Index Names**:\n",
    "    - **Problem Statement**: Given a DataFrame `df` with columns 'Product', 'Category', and 'Sales', create a pivot table to calculate the total sales for each category, and rename the index to 'Product Category'."
   ]
  },
  {
   "cell_type": "code",
   "execution_count": 14,
   "metadata": {},
   "outputs": [
    {
     "name": "stdout",
     "output_type": "stream",
     "text": [
      "                  Sales\n",
      "Product Category       \n",
      "Electronics         500\n",
      "Furniture           400\n",
      "Office Supplies     100\n"
     ]
    }
   ],
   "source": [
    "df = pd.DataFrame({\n",
    "    'Product': ['A', 'B', 'C', 'D', 'E'],\n",
    "    'Category': ['Electronics', 'Electronics', 'Furniture', 'Furniture', 'Office Supplies'],\n",
    "    'Sales': [200, 300, 150, 250, 100]\n",
    "})\n",
    "\n",
    "pivot_table = df.pivot_table(values='Sales', index='Category', aggfunc='sum')\n",
    "pivot_table.index.name = 'Product Category'\n",
    "print(pivot_table)"
   ]
  },
  {
   "cell_type": "markdown",
   "metadata": {},
   "source": [
    "### 13. **Pivot Table with Reindexing**:\n",
    "   **Problem Statement**: Given a DataFrame `df` with columns 'Department', 'Employee', and 'Salary', create a pivot table to calculate the average salary for each department, and reindex the pivot table to include all departments ['HR', 'Engineering', 'Sales', 'Marketing'] even if they are not present in the data."
   ]
  },
  {
   "cell_type": "markdown",
   "metadata": {},
   "source": [
    "```python\n",
    "\n",
    "departments = ['HR', 'Engineering', 'Sales', 'Marketing']\n",
    "pivot_table = df.pivot_table(values='Salary', index='Department', aggfunc='mean').reindex(departments)\n",
    "print(pivot_table)\n",
    "```"
   ]
  },
  {
   "cell_type": "markdown",
   "metadata": {},
   "source": [
    "### 14. **Pivot Table with Sorting**:\n",
    "   **Problem Statement**: Given a DataFrame `df` with columns 'Department', 'Employee', and 'Salary', create a pivot table to calculate the total salary for each department and sort the results by total salary in descending order."
   ]
  },
  {
   "cell_type": "markdown",
   "metadata": {},
   "source": [
    "```python\n",
    "pivot_table = df.pivot_table(values='Salary', index='Department', aggfunc='sum').sort_values(by='Salary', ascending=False)\n",
    "print(pivot_table)\n",
    "```"
   ]
  },
  {
   "cell_type": "markdown",
   "metadata": {},
   "source": [
    "### 15. **Pivot Table with Index and Column Names**:\n",
    "  **Problem Statement**: Given a DataFrame `df` with columns 'Region', 'Department', 'Employee', and 'Sales', create a pivot table to calculate the total sales for each region and department, and rename the index to 'Region' and columns to 'Department'."
   ]
  },
  {
   "cell_type": "code",
   "execution_count": 17,
   "metadata": {},
   "outputs": [
    {
     "name": "stdout",
     "output_type": "stream",
     "text": [
      "Department  Engineering   HR\n",
      "Region                      \n",
      "East                220  120\n",
      "North               200  100\n",
      "South               250  150\n",
      "West                230  130\n"
     ]
    }
   ],
   "source": [
    "df = pd.DataFrame({\n",
    "    'Region': ['North', 'North', 'South', 'South', 'East', 'East', 'West', 'West'],\n",
    "    'Department': ['HR', 'Engineering', 'HR', 'Engineering', 'HR', 'Engineering', 'HR', 'Engineering'],\n",
    "    'Employee': ['Alice', 'Bob', 'Charlie', 'David', 'Eve', 'Frank', 'Grace', 'Hank'],\n",
    "    'Sales': [100, 200, 150, 250, 120, 220, 130, 230]\n",
    "})\n",
    "\n",
    "pivot_table = df.pivot_table(values='Sales', index='Region', columns='Department', aggfunc='sum')\n",
    "pivot_table.index.name = 'Region'\n",
    "pivot_table.columns.name = 'Department'\n",
    "print(pivot_table)"
   ]
  },
  {
   "cell_type": "code",
   "execution_count": null,
   "metadata": {},
   "outputs": [],
   "source": []
  }
 ],
 "metadata": {
  "kernelspec": {
   "display_name": "Python 3",
   "language": "python",
   "name": "python3"
  },
  "language_info": {
   "codemirror_mode": {
    "name": "ipython",
    "version": 3
   },
   "file_extension": ".py",
   "mimetype": "text/x-python",
   "name": "python",
   "nbconvert_exporter": "python",
   "pygments_lexer": "ipython3",
   "version": "3.6.9"
  }
 },
 "nbformat": 4,
 "nbformat_minor": 4
}
