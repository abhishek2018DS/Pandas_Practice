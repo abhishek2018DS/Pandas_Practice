{
 "cells": [
  {
   "cell_type": "markdown",
   "metadata": {},
   "source": [
    "### 1. **Extracting Substrings**:\n",
    "   - **Problem Statement**: Given a DataFrame `df` with a column 'Email', extract the domain names from the email addresses."
   ]
  },
  {
   "cell_type": "code",
   "execution_count": 2,
   "metadata": {},
   "outputs": [
    {
     "name": "stdout",
     "output_type": "stream",
     "text": [
      "               Email        Domain\n",
      "0  alice@example.com   example.com\n",
      "1   bob@workmail.com  workmail.com\n",
      "2   charlie@univ.edu      univ.edu\n"
     ]
    }
   ],
   "source": [
    "import pandas as pd\n",
    "\n",
    "df = pd.DataFrame({\n",
    "   'Email': ['alice@example.com', 'bob@workmail.com', 'charlie@univ.edu']\n",
    "})\n",
    "\n",
    "df['Domain'] = df['Email'].str.split('@').str[1]\n",
    "print(df)"
   ]
  },
  {
   "cell_type": "markdown",
   "metadata": {},
   "source": [
    "### 2. **String Length Calculation**:\n",
    "   - **Problem Statement**: Given a DataFrame `df` with a column 'Text', calculate the length of each string in the 'Text' column."
   ]
  },
  {
   "cell_type": "code",
   "execution_count": 3,
   "metadata": {},
   "outputs": [
    {
     "name": "stdout",
     "output_type": "stream",
     "text": [
      "            Text  Length\n",
      "0          hello       5\n",
      "1         pandas       6\n",
      "2  data analysis      13\n"
     ]
    }
   ],
   "source": [
    "df = pd.DataFrame({\n",
    "   'Text': ['hello', 'pandas', 'data analysis']\n",
    "})\n",
    "\n",
    "df['Length'] = df['Text'].str.len()\n",
    "print(df)"
   ]
  },
  {
   "cell_type": "markdown",
   "metadata": {},
   "source": [
    "### 3. **Case Conversion**:\n",
    "   - **Problem Statement**: Given a DataFrame `df` with a column 'Name', convert all the strings in the 'Name' column to uppercase.\n",
    "   "
   ]
  },
  {
   "cell_type": "code",
   "execution_count": 4,
   "metadata": {},
   "outputs": [
    {
     "name": "stdout",
     "output_type": "stream",
     "text": [
      "      Name Name_Upper\n",
      "0    Alice      ALICE\n",
      "1      Bob        BOB\n",
      "2  Charlie    CHARLIE\n"
     ]
    }
   ],
   "source": [
    "df = pd.DataFrame({\n",
    "   'Name': ['Alice', 'Bob', 'Charlie']\n",
    "})\n",
    "\n",
    "df['Name_Upper'] = df['Name'].str.upper()\n",
    "print(df)"
   ]
  },
  {
   "cell_type": "markdown",
   "metadata": {},
   "source": [
    "### 4. **Checking for Substrings**:\n",
    "   - **Problem Statement**: Given a DataFrame `df` with a column 'Comment', check if each string in the 'Comment' column contains the substring 'error'."
   ]
  },
  {
   "cell_type": "code",
   "execution_count": 5,
   "metadata": {},
   "outputs": [
    {
     "name": "stdout",
     "output_type": "stream",
     "text": [
      "           Comment  Contains_Error\n",
      "0   no error found            True\n",
      "1  error in line 3            True\n",
      "2         all good           False\n"
     ]
    }
   ],
   "source": [
    "df = pd.DataFrame({\n",
    "   'Comment': ['no error found', 'error in line 3', 'all good']\n",
    "})\n",
    "\n",
    "df['Contains_Error'] = df['Comment'].str.contains('error')\n",
    "print(df)"
   ]
  },
  {
   "cell_type": "markdown",
   "metadata": {},
   "source": [
    "### 5. **Replacing Substrings**:\n",
    "   - **Problem Statement**: Given a DataFrame `df` with a column 'Sentence', replace all occurrences of the word 'Python' with 'Pandas' in the 'Sentence' column."
   ]
  },
  {
   "cell_type": "code",
   "execution_count": 6,
   "metadata": {},
   "outputs": [
    {
     "name": "stdout",
     "output_type": "stream",
     "text": [
      "                            Sentence\n",
      "0                      I love Pandas\n",
      "1  Pandas is great for data analysis\n",
      "2      Pandas and Pandas are awesome\n"
     ]
    }
   ],
   "source": [
    "df = pd.DataFrame({\n",
    "   'Sentence': ['I love Python', 'Python is great for data analysis', 'Python and Pandas are awesome']\n",
    "})\n",
    "\n",
    "df['Sentence'] = df['Sentence'].str.replace('Python', 'Pandas')\n",
    "print(df)"
   ]
  },
  {
   "cell_type": "markdown",
   "metadata": {},
   "source": [
    "### 6. **Splitting Strings into Multiple Columns**:\n",
    "   - **Problem Statement**: Given a DataFrame `df` with a column 'Full_Name' containing names in the format 'First Last', split the names into two separate columns 'First_Name' and 'Last_Name'.\n"
   ]
  },
  {
   "cell_type": "code",
   "execution_count": 7,
   "metadata": {},
   "outputs": [
    {
     "name": "stdout",
     "output_type": "stream",
     "text": [
      "       Full_Name First_Name Last_Name\n",
      "0  Alice Johnson      Alice   Johnson\n",
      "1      Bob Smith        Bob     Smith\n",
      "2  Charlie Brown    Charlie     Brown\n"
     ]
    }
   ],
   "source": [
    "df = pd.DataFrame({\n",
    "   'Full_Name': ['Alice Johnson', 'Bob Smith', 'Charlie Brown']\n",
    "})\n",
    "\n",
    "df[['First_Name', 'Last_Name']] = df['Full_Name'].str.split(' ', expand=True)\n",
    "print(df)"
   ]
  },
  {
   "cell_type": "markdown",
   "metadata": {},
   "source": [
    "### 7. **Removing Whitespace**:\n",
    "   - **Problem Statement**: Given a DataFrame `df` with a column 'Address', remove any leading and trailing whitespace from the strings in the 'Address' column."
   ]
  },
  {
   "cell_type": "code",
   "execution_count": 8,
   "metadata": {},
   "outputs": [
    {
     "name": "stdout",
     "output_type": "stream",
     "text": [
      "         Address\n",
      "0    123 Main St\n",
      "1     456 Elm St\n",
      "2  789 Maple Ave\n"
     ]
    }
   ],
   "source": [
    "df = pd.DataFrame({\n",
    "   'Address': [' 123 Main St ', ' 456 Elm St', '789 Maple Ave ']\n",
    "})\n",
    "\n",
    "df['Address'] = df['Address'].str.strip()\n",
    "print(df)"
   ]
  },
  {
   "cell_type": "markdown",
   "metadata": {},
   "source": [
    "### 8. **Concatenating Strings**:\n",
    "   - **Problem Statement**: Given a DataFrame `df` with columns 'First_Name' and 'Last_Name', create a new column 'Full_Name' that concatenates 'First_Name' and 'Last_Name' with a space in between."
   ]
  },
  {
   "cell_type": "code",
   "execution_count": 9,
   "metadata": {},
   "outputs": [
    {
     "name": "stdout",
     "output_type": "stream",
     "text": [
      "  First_Name Last_Name   Full_Name\n",
      "0       John       Doe    John Doe\n",
      "1       Jane     Smith  Jane Smith\n",
      "2        Tom     Hanks   Tom Hanks\n"
     ]
    }
   ],
   "source": [
    "import pandas as pd\n",
    "\n",
    "df = pd.DataFrame({\n",
    "   'First_Name': ['John', 'Jane', 'Tom'],\n",
    "   'Last_Name': ['Doe', 'Smith', 'Hanks']\n",
    "})\n",
    "\n",
    "df['Full_Name'] = df['First_Name'] + ' ' + df['Last_Name']\n",
    "print(df)"
   ]
  },
  {
   "cell_type": "markdown",
   "metadata": {},
   "source": [
    "### 9. **String Contains Check**:\n",
    "   - **Problem Statement**: Given a DataFrame `df` with a column 'Description', create a new column 'Contains_Apple' which is True if the string 'apple' (case-insensitive) is present in 'Description', otherwise False."
   ]
  },
  {
   "cell_type": "code",
   "execution_count": 10,
   "metadata": {},
   "outputs": [
    {
     "name": "stdout",
     "output_type": "stream",
     "text": [
      "                            Description  Contains_Apple\n",
      "0                         I like apples            True\n",
      "1                     Bananas are great           False\n",
      "2  An apple a day keeps the doctor away            True\n"
     ]
    }
   ],
   "source": [
    "df = pd.DataFrame({\n",
    "   'Description': ['I like apples', 'Bananas are great', 'An apple a day keeps the doctor away']\n",
    "})\n",
    "\n",
    "df['Contains_Apple'] = df['Description'].str.contains('apple', case=False)\n",
    "print(df)"
   ]
  },
  {
   "cell_type": "markdown",
   "metadata": {},
   "source": [
    "### 10. **String Slicing**:\n",
    "   - **Problem Statement**: Given a DataFrame `df` with a column 'Product_Code' containing alphanumeric codes, create a new column 'Product_Type' which contains the first three characters of 'Product_Code'."
   ]
  },
  {
   "cell_type": "code",
   "execution_count": 11,
   "metadata": {},
   "outputs": [
    {
     "name": "stdout",
     "output_type": "stream",
     "text": [
      "  Product_Code Product_Type\n",
      "0        AB123          AB1\n",
      "1        XY456          XY4\n",
      "2        MN789          MN7\n"
     ]
    }
   ],
   "source": [
    "df = pd.DataFrame({\n",
    "   'Product_Code': ['AB123', 'XY456', 'MN789']\n",
    "})\n",
    "\n",
    "df['Product_Type'] = df['Product_Code'].str[:3]\n",
    "print(df)"
   ]
  },
  {
   "cell_type": "code",
   "execution_count": null,
   "metadata": {},
   "outputs": [],
   "source": []
  }
 ],
 "metadata": {
  "kernelspec": {
   "display_name": "Python 3",
   "language": "python",
   "name": "python3"
  },
  "language_info": {
   "codemirror_mode": {
    "name": "ipython",
    "version": 3
   },
   "file_extension": ".py",
   "mimetype": "text/x-python",
   "name": "python",
   "nbconvert_exporter": "python",
   "pygments_lexer": "ipython3",
   "version": "3.6.9"
  }
 },
 "nbformat": 4,
 "nbformat_minor": 4
}
