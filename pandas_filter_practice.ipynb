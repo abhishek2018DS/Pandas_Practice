{
 "cells": [
  {
   "cell_type": "markdown",
   "metadata": {},
   "source": [
    "### 1. **Filtering Rows by Column Value**:\n",
    "   - **Problem Statement**: Given a DataFrame `df` with columns 'Name' and 'Age', filter the rows where the age is greater than 30."
   ]
  },
  {
   "cell_type": "code",
   "execution_count": 1,
   "metadata": {},
   "outputs": [
    {
     "name": "stdout",
     "output_type": "stream",
     "text": [
      "    Name  Age\n",
      "1    Bob   35\n",
      "3  David   40\n"
     ]
    }
   ],
   "source": [
    "import pandas as pd\n",
    "\n",
    "df = pd.DataFrame({\n",
    "   'Name': ['Alice', 'Bob', 'Charlie', 'David', 'Eve'],\n",
    "   'Age': [25, 35, 30, 40, 22]\n",
    "})\n",
    "\n",
    "result = df[df['Age'] > 30]\n",
    "print(result)"
   ]
  },
  {
   "cell_type": "markdown",
   "metadata": {},
   "source": [
    "### 2. **Filtering Rows by Multiple Conditions**:\n",
    "   - **Problem Statement**: Given a DataFrame `df` with columns 'Name', 'Age', and 'Salary', filter the rows where the age is greater than 30 and the salary is less than 70000."
   ]
  },
  {
   "cell_type": "code",
   "execution_count": 2,
   "metadata": {},
   "outputs": [
    {
     "name": "stdout",
     "output_type": "stream",
     "text": [
      "Empty DataFrame\n",
      "Columns: [Name, Age, Salary]\n",
      "Index: []\n"
     ]
    }
   ],
   "source": [
    "df = pd.DataFrame({\n",
    "   'Name': ['Alice', 'Bob', 'Charlie', 'David', 'Eve'],\n",
    "   'Age': [25, 35, 30, 40, 22],\n",
    "   'Salary': [50000, 80000, 60000, 90000, 45000]\n",
    "})\n",
    "\n",
    "result = df[(df['Age'] > 30) & (df['Salary'] < 70000)]\n",
    "print(result)"
   ]
  },
  {
   "cell_type": "markdown",
   "metadata": {},
   "source": [
    "### 3. **Filtering Rows Based on String Matching**:\n",
    "   - **Problem Statement**: Given a DataFrame `df` with columns 'Product' and 'Price', filter the rows where the product name contains the substring 'Book'."
   ]
  },
  {
   "cell_type": "code",
   "execution_count": 3,
   "metadata": {},
   "outputs": [
    {
     "name": "stdout",
     "output_type": "stream",
     "text": [
      "  Product  Price\n",
      "0  Book A   12.0\n",
      "2  Book B   15.0\n"
     ]
    }
   ],
   "source": [
    "df = pd.DataFrame({\n",
    "   'Product': ['Book A', 'Pen', 'Book B', 'Notebook', 'Pencil'],\n",
    "   'Price': [12, 1, 15, 5, 0.5]\n",
    "})\n",
    "\n",
    "result = df[df['Product'].str.contains('Book')]\n",
    "print(result)"
   ]
  },
  {
   "cell_type": "markdown",
   "metadata": {},
   "source": [
    "### 4. **Filtering Rows by Date Range**:\n",
    "   - **Problem Statement**: Given a DataFrame `df` with columns 'Date' and 'Value', filter the rows to include only the dates in January 2023."
   ]
  },
  {
   "cell_type": "code",
   "execution_count": 4,
   "metadata": {},
   "outputs": [
    {
     "name": "stdout",
     "output_type": "stream",
     "text": [
      "         Date  Value\n",
      "7  2023-01-01      7\n",
      "8  2023-01-02      8\n",
      "9  2023-01-03      9\n",
      "10 2023-01-04     10\n",
      "11 2023-01-05     11\n",
      "12 2023-01-06     12\n",
      "13 2023-01-07     13\n",
      "14 2023-01-08     14\n",
      "15 2023-01-09     15\n",
      "16 2023-01-10     16\n",
      "17 2023-01-11     17\n",
      "18 2023-01-12     18\n",
      "19 2023-01-13     19\n",
      "20 2023-01-14     20\n",
      "21 2023-01-15     21\n",
      "22 2023-01-16     22\n",
      "23 2023-01-17     23\n",
      "24 2023-01-18     24\n",
      "25 2023-01-19     25\n",
      "26 2023-01-20     26\n",
      "27 2023-01-21     27\n",
      "28 2023-01-22     28\n",
      "29 2023-01-23     29\n",
      "30 2023-01-24     30\n",
      "31 2023-01-25     31\n",
      "32 2023-01-26     32\n",
      "33 2023-01-27     33\n",
      "34 2023-01-28     34\n",
      "35 2023-01-29     35\n",
      "36 2023-01-30     36\n",
      "37 2023-01-31     37\n"
     ]
    }
   ],
   "source": [
    "df = pd.DataFrame({\n",
    "   'Date': pd.date_range(start='2022-12-25', end='2023-02-05'),\n",
    "   'Value': range(43)\n",
    "})\n",
    "\n",
    "result = df[(df['Date'] >= '2023-01-01') & (df['Date'] <= '2023-01-31')]\n",
    "print(result)"
   ]
  },
  {
   "cell_type": "markdown",
   "metadata": {},
   "source": [
    "### 5. **Filtering Rows with Missing Values**:\n",
    "   - **Problem Statement**: Given a DataFrame `df` with columns 'Name' and 'Score', filter the rows where the 'Score' column is not missing."
   ]
  },
  {
   "cell_type": "code",
   "execution_count": 5,
   "metadata": {},
   "outputs": [
    {
     "name": "stdout",
     "output_type": "stream",
     "text": [
      "      Name  Score\n",
      "0    Alice   85.0\n",
      "2  Charlie   75.0\n",
      "4      Eve   95.0\n"
     ]
    }
   ],
   "source": [
    "df = pd.DataFrame({\n",
    "   'Name': ['Alice', 'Bob', 'Charlie', 'David', 'Eve'],\n",
    "   'Score': [85, None, 75, None, 95]\n",
    "})\n",
    "\n",
    "result = df[df['Score'].notna()]\n",
    "print(result)"
   ]
  },
  {
   "cell_type": "markdown",
   "metadata": {},
   "source": [
    "### 6. **Filtering Rows Based on a List of Values**:\n",
    "   - **Problem Statement**: Given a DataFrame `df` with columns 'City' and 'Population', filter the rows where the city is either 'New York' or 'Los Angeles'."
   ]
  },
  {
   "cell_type": "code",
   "execution_count": 6,
   "metadata": {},
   "outputs": [
    {
     "name": "stdout",
     "output_type": "stream",
     "text": [
      "          City  Population\n",
      "0     New York     8000000\n",
      "1  Los Angeles     4000000\n"
     ]
    }
   ],
   "source": [
    "df = pd.DataFrame({\n",
    "   'City': ['New York', 'Los Angeles', 'Chicago', 'Houston', 'Phoenix'],\n",
    "   'Population': [8000000, 4000000, 2700000, 2300000, 1600000]\n",
    "})\n",
    "\n",
    "result = df[df['City'].isin(['New York', 'Los Angeles'])]\n",
    "print(result)"
   ]
  },
  {
   "cell_type": "markdown",
   "metadata": {},
   "source": [
    "### 7. **Filtering Rows Based on Index**:\n",
    "   - **Problem Statement**: Given a DataFrame `df` with a DateTime index and a column 'Temperature', filter the rows to include only the dates in the first week of January 2023."
   ]
  },
  {
   "cell_type": "code",
   "execution_count": 7,
   "metadata": {},
   "outputs": [
    {
     "name": "stdout",
     "output_type": "stream",
     "text": [
      "            Temperature\n",
      "Date                   \n",
      "2023-01-01           30\n",
      "2023-01-02           32\n",
      "2023-01-03           31\n",
      "2023-01-04           28\n",
      "2023-01-05           35\n",
      "2023-01-06           30\n",
      "2023-01-07           29\n"
     ]
    }
   ],
   "source": [
    "df = pd.DataFrame({\n",
    "   'Temperature': [30, 32, 31, 28, 35, 30, 29, 40, 42, 45],\n",
    "   'Date': pd.date_range(start='2023-01-01', periods=10)\n",
    "})\n",
    "df.set_index('Date', inplace=True)\n",
    "\n",
    "result = df['2023-01-01':'2023-01-07']\n",
    "print(result)"
   ]
  },
  {
   "cell_type": "markdown",
   "metadata": {},
   "source": [
    "### 8. **Filtering Rows with Query Method**:\n",
    "   - **Problem Statement**: Given a DataFrame `df` with columns 'Name', 'Age', and 'Salary', filter the rows where the age is between 25 and 35 and the salary is greater than 50000 using the `query` method."
   ]
  },
  {
   "cell_type": "markdown",
   "metadata": {},
   "source": [
    "\n",
    "   ```python\n",
    "   df = pd.DataFrame({\n",
    "       'Name': ['Alice', 'Bob', 'Charlie', 'David', 'Eve'],\n",
    "       'Age': [25, 35, 30, 40, 22],\n",
    "       'Salary': [50000, 80000, 60000, 90000, 45000]\n",
    "   })\n",
    "\n",
    "   result = df.query('25 <= Age <= 35 and Salary > 50000')\n",
    "   print(result)\n",
    "   ```\n",
    "\n",
    "These problems cover various aspects of filtering operations using Pandas, including filtering by column values, multiple conditions, string matching, date ranges, missing values, a list of values, index-based filtering, and using the `query` method. Practicing these problems will help you become proficient in filtering data using Pandas."
   ]
  }
 ],
 "metadata": {
  "kernelspec": {
   "display_name": "Python 3",
   "language": "python",
   "name": "python3"
  },
  "language_info": {
   "codemirror_mode": {
    "name": "ipython",
    "version": 3
   },
   "file_extension": ".py",
   "mimetype": "text/x-python",
   "name": "python",
   "nbconvert_exporter": "python",
   "pygments_lexer": "ipython3",
   "version": "3.6.9"
  }
 },
 "nbformat": 4,
 "nbformat_minor": 4
}
